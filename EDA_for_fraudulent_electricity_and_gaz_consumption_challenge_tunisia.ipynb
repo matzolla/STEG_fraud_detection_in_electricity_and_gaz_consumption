{
 "cells": [
  {
   "cell_type": "markdown",
   "metadata": {},
   "source": [
    "## Name: Nken Allassan\n",
    "## Date: June/24/2020"
   ]
  },
  {
   "cell_type": "markdown",
   "metadata": {},
   "source": [
    "### Hello, in this file i will try to do as much as possible to _tell you a story_ about this data\n",
    "### i'm not that familiar to this task but i will try my best to get insights from it let's go"
   ]
  },
  {
   "cell_type": "code",
   "execution_count": 1,
   "metadata": {},
   "outputs": [],
   "source": [
    "import numpy as np\n",
    "import pandas as pd \n",
    "import seaborn as sb"
   ]
  },
  {
   "cell_type": "markdown",
   "metadata": {},
   "source": [
    "## Loading the train and test file"
   ]
  },
  {
   "cell_type": "code",
   "execution_count": 2,
   "metadata": {},
   "outputs": [],
   "source": [
    "train=pd.read_csv('allassan_train.csv')\n",
    "test=pd.read_csv('allassan_test.csv')"
   ]
  },
  {
   "cell_type": "code",
   "execution_count": 81,
   "metadata": {},
   "outputs": [
    {
     "data": {
      "text/html": [
       "<div>\n",
       "<style scoped>\n",
       "    .dataframe tbody tr th:only-of-type {\n",
       "        vertical-align: middle;\n",
       "    }\n",
       "\n",
       "    .dataframe tbody tr th {\n",
       "        vertical-align: top;\n",
       "    }\n",
       "\n",
       "    .dataframe thead th {\n",
       "        text-align: right;\n",
       "    }\n",
       "</style>\n",
       "<table border=\"1\" class=\"dataframe\">\n",
       "  <thead>\n",
       "    <tr style=\"text-align: right;\">\n",
       "      <th></th>\n",
       "      <th>disrict</th>\n",
       "      <th>client_id</th>\n",
       "      <th>client_catg</th>\n",
       "      <th>region</th>\n",
       "      <th>creation_date</th>\n",
       "      <th>target</th>\n",
       "      <th>invoice_date</th>\n",
       "      <th>tarif_type</th>\n",
       "      <th>counter_number</th>\n",
       "      <th>counter_statue</th>\n",
       "      <th>...</th>\n",
       "      <th>counter_coefficient</th>\n",
       "      <th>consommation_level_1</th>\n",
       "      <th>consommation_level_2</th>\n",
       "      <th>consommation_level_3</th>\n",
       "      <th>consommation_level_4</th>\n",
       "      <th>old_index</th>\n",
       "      <th>new_index</th>\n",
       "      <th>months_number</th>\n",
       "      <th>counter_type</th>\n",
       "      <th>year_to_date</th>\n",
       "    </tr>\n",
       "  </thead>\n",
       "  <tbody>\n",
       "    <tr>\n",
       "      <td>135483</td>\n",
       "      <td>62</td>\n",
       "      <td>train_Client_99990</td>\n",
       "      <td>11</td>\n",
       "      <td>303</td>\n",
       "      <td>2012-12-10</td>\n",
       "      <td>0.0</td>\n",
       "      <td>2015-01-28</td>\n",
       "      <td>11</td>\n",
       "      <td>416794</td>\n",
       "      <td>0</td>\n",
       "      <td>...</td>\n",
       "      <td>1</td>\n",
       "      <td>703</td>\n",
       "      <td>0</td>\n",
       "      <td>0</td>\n",
       "      <td>0</td>\n",
       "      <td>2201</td>\n",
       "      <td>2904</td>\n",
       "      <td>4</td>\n",
       "      <td>ELEC</td>\n",
       "      <td>779 days</td>\n",
       "    </tr>\n",
       "    <tr>\n",
       "      <td>135484</td>\n",
       "      <td>63</td>\n",
       "      <td>train_Client_99991</td>\n",
       "      <td>11</td>\n",
       "      <td>311</td>\n",
       "      <td>2014-05-22</td>\n",
       "      <td>0.0</td>\n",
       "      <td>2019-06-13</td>\n",
       "      <td>11</td>\n",
       "      <td>243261</td>\n",
       "      <td>0</td>\n",
       "      <td>...</td>\n",
       "      <td>1</td>\n",
       "      <td>208</td>\n",
       "      <td>0</td>\n",
       "      <td>0</td>\n",
       "      <td>0</td>\n",
       "      <td>6911</td>\n",
       "      <td>7119</td>\n",
       "      <td>4</td>\n",
       "      <td>ELEC</td>\n",
       "      <td>1848 days</td>\n",
       "    </tr>\n",
       "    <tr>\n",
       "      <td>135485</td>\n",
       "      <td>60</td>\n",
       "      <td>train_Client_99992</td>\n",
       "      <td>11</td>\n",
       "      <td>101</td>\n",
       "      <td>2009-03-13</td>\n",
       "      <td>0.0</td>\n",
       "      <td>2016-10-21</td>\n",
       "      <td>40</td>\n",
       "      <td>65938</td>\n",
       "      <td>0</td>\n",
       "      <td>...</td>\n",
       "      <td>1</td>\n",
       "      <td>0</td>\n",
       "      <td>0</td>\n",
       "      <td>0</td>\n",
       "      <td>0</td>\n",
       "      <td>0</td>\n",
       "      <td>0</td>\n",
       "      <td>26</td>\n",
       "      <td>GAZ</td>\n",
       "      <td>2779 days</td>\n",
       "    </tr>\n",
       "    <tr>\n",
       "      <td>135486</td>\n",
       "      <td>60</td>\n",
       "      <td>train_Client_99993</td>\n",
       "      <td>11</td>\n",
       "      <td>101</td>\n",
       "      <td>2006-11-17</td>\n",
       "      <td>0.0</td>\n",
       "      <td>2009-04-13</td>\n",
       "      <td>10</td>\n",
       "      <td>1090709</td>\n",
       "      <td>0</td>\n",
       "      <td>...</td>\n",
       "      <td>1</td>\n",
       "      <td>200</td>\n",
       "      <td>172</td>\n",
       "      <td>0</td>\n",
       "      <td>0</td>\n",
       "      <td>2995</td>\n",
       "      <td>3367</td>\n",
       "      <td>4</td>\n",
       "      <td>ELEC</td>\n",
       "      <td>878 days</td>\n",
       "    </tr>\n",
       "    <tr>\n",
       "      <td>135487</td>\n",
       "      <td>60</td>\n",
       "      <td>train_Client_99994</td>\n",
       "      <td>11</td>\n",
       "      <td>101</td>\n",
       "      <td>1978-12-12</td>\n",
       "      <td>0.0</td>\n",
       "      <td>2006-12-14</td>\n",
       "      <td>10</td>\n",
       "      <td>945652</td>\n",
       "      <td>0</td>\n",
       "      <td>...</td>\n",
       "      <td>1</td>\n",
       "      <td>0</td>\n",
       "      <td>0</td>\n",
       "      <td>0</td>\n",
       "      <td>0</td>\n",
       "      <td>8147</td>\n",
       "      <td>8147</td>\n",
       "      <td>8</td>\n",
       "      <td>ELEC</td>\n",
       "      <td>10229 days</td>\n",
       "    </tr>\n",
       "    <tr>\n",
       "      <td>135488</td>\n",
       "      <td>62</td>\n",
       "      <td>train_Client_99995</td>\n",
       "      <td>11</td>\n",
       "      <td>304</td>\n",
       "      <td>2004-07-26</td>\n",
       "      <td>0.0</td>\n",
       "      <td>2005-07-10</td>\n",
       "      <td>11</td>\n",
       "      <td>897286</td>\n",
       "      <td>0</td>\n",
       "      <td>...</td>\n",
       "      <td>1</td>\n",
       "      <td>0</td>\n",
       "      <td>0</td>\n",
       "      <td>0</td>\n",
       "      <td>0</td>\n",
       "      <td>14</td>\n",
       "      <td>14</td>\n",
       "      <td>4</td>\n",
       "      <td>ELEC</td>\n",
       "      <td>349 days</td>\n",
       "    </tr>\n",
       "    <tr>\n",
       "      <td>135489</td>\n",
       "      <td>63</td>\n",
       "      <td>train_Client_99996</td>\n",
       "      <td>11</td>\n",
       "      <td>311</td>\n",
       "      <td>2012-10-25</td>\n",
       "      <td>0.0</td>\n",
       "      <td>2015-10-20</td>\n",
       "      <td>11</td>\n",
       "      <td>398783</td>\n",
       "      <td>0</td>\n",
       "      <td>...</td>\n",
       "      <td>1</td>\n",
       "      <td>605</td>\n",
       "      <td>0</td>\n",
       "      <td>0</td>\n",
       "      <td>0</td>\n",
       "      <td>895</td>\n",
       "      <td>1500</td>\n",
       "      <td>4</td>\n",
       "      <td>ELEC</td>\n",
       "      <td>1090 days</td>\n",
       "    </tr>\n",
       "    <tr>\n",
       "      <td>135490</td>\n",
       "      <td>63</td>\n",
       "      <td>train_Client_99997</td>\n",
       "      <td>11</td>\n",
       "      <td>311</td>\n",
       "      <td>2011-11-22</td>\n",
       "      <td>0.0</td>\n",
       "      <td>2015-08-06</td>\n",
       "      <td>11</td>\n",
       "      <td>262195</td>\n",
       "      <td>0</td>\n",
       "      <td>...</td>\n",
       "      <td>1</td>\n",
       "      <td>280</td>\n",
       "      <td>0</td>\n",
       "      <td>0</td>\n",
       "      <td>0</td>\n",
       "      <td>3573</td>\n",
       "      <td>3853</td>\n",
       "      <td>4</td>\n",
       "      <td>ELEC</td>\n",
       "      <td>1353 days</td>\n",
       "    </tr>\n",
       "    <tr>\n",
       "      <td>135491</td>\n",
       "      <td>60</td>\n",
       "      <td>train_Client_99998</td>\n",
       "      <td>11</td>\n",
       "      <td>101</td>\n",
       "      <td>1993-12-22</td>\n",
       "      <td>0.0</td>\n",
       "      <td>2005-08-19</td>\n",
       "      <td>10</td>\n",
       "      <td>1253571</td>\n",
       "      <td>0</td>\n",
       "      <td>...</td>\n",
       "      <td>1</td>\n",
       "      <td>400</td>\n",
       "      <td>135</td>\n",
       "      <td>0</td>\n",
       "      <td>0</td>\n",
       "      <td>3197</td>\n",
       "      <td>3732</td>\n",
       "      <td>8</td>\n",
       "      <td>ELEC</td>\n",
       "      <td>4258 days</td>\n",
       "    </tr>\n",
       "    <tr>\n",
       "      <td>135492</td>\n",
       "      <td>60</td>\n",
       "      <td>train_Client_99999</td>\n",
       "      <td>11</td>\n",
       "      <td>101</td>\n",
       "      <td>1986-02-18</td>\n",
       "      <td>0.0</td>\n",
       "      <td>1996-09-25</td>\n",
       "      <td>11</td>\n",
       "      <td>560948</td>\n",
       "      <td>0</td>\n",
       "      <td>...</td>\n",
       "      <td>1</td>\n",
       "      <td>259</td>\n",
       "      <td>0</td>\n",
       "      <td>0</td>\n",
       "      <td>0</td>\n",
       "      <td>13884</td>\n",
       "      <td>14143</td>\n",
       "      <td>4</td>\n",
       "      <td>ELEC</td>\n",
       "      <td>3872 days</td>\n",
       "    </tr>\n",
       "  </tbody>\n",
       "</table>\n",
       "<p>10 rows × 22 columns</p>\n",
       "</div>"
      ],
      "text/plain": [
       "        disrict           client_id  client_catg  region creation_date  \\\n",
       "135483       62  train_Client_99990           11     303    2012-12-10   \n",
       "135484       63  train_Client_99991           11     311    2014-05-22   \n",
       "135485       60  train_Client_99992           11     101    2009-03-13   \n",
       "135486       60  train_Client_99993           11     101    2006-11-17   \n",
       "135487       60  train_Client_99994           11     101    1978-12-12   \n",
       "135488       62  train_Client_99995           11     304    2004-07-26   \n",
       "135489       63  train_Client_99996           11     311    2012-10-25   \n",
       "135490       63  train_Client_99997           11     311    2011-11-22   \n",
       "135491       60  train_Client_99998           11     101    1993-12-22   \n",
       "135492       60  train_Client_99999           11     101    1986-02-18   \n",
       "\n",
       "        target invoice_date  tarif_type  counter_number  counter_statue  ...  \\\n",
       "135483     0.0   2015-01-28          11          416794               0  ...   \n",
       "135484     0.0   2019-06-13          11          243261               0  ...   \n",
       "135485     0.0   2016-10-21          40           65938               0  ...   \n",
       "135486     0.0   2009-04-13          10         1090709               0  ...   \n",
       "135487     0.0   2006-12-14          10          945652               0  ...   \n",
       "135488     0.0   2005-07-10          11          897286               0  ...   \n",
       "135489     0.0   2015-10-20          11          398783               0  ...   \n",
       "135490     0.0   2015-08-06          11          262195               0  ...   \n",
       "135491     0.0   2005-08-19          10         1253571               0  ...   \n",
       "135492     0.0   1996-09-25          11          560948               0  ...   \n",
       "\n",
       "        counter_coefficient  consommation_level_1  consommation_level_2  \\\n",
       "135483                    1                   703                     0   \n",
       "135484                    1                   208                     0   \n",
       "135485                    1                     0                     0   \n",
       "135486                    1                   200                   172   \n",
       "135487                    1                     0                     0   \n",
       "135488                    1                     0                     0   \n",
       "135489                    1                   605                     0   \n",
       "135490                    1                   280                     0   \n",
       "135491                    1                   400                   135   \n",
       "135492                    1                   259                     0   \n",
       "\n",
       "        consommation_level_3  consommation_level_4  old_index  new_index  \\\n",
       "135483                     0                     0       2201       2904   \n",
       "135484                     0                     0       6911       7119   \n",
       "135485                     0                     0          0          0   \n",
       "135486                     0                     0       2995       3367   \n",
       "135487                     0                     0       8147       8147   \n",
       "135488                     0                     0         14         14   \n",
       "135489                     0                     0        895       1500   \n",
       "135490                     0                     0       3573       3853   \n",
       "135491                     0                     0       3197       3732   \n",
       "135492                     0                     0      13884      14143   \n",
       "\n",
       "        months_number  counter_type  year_to_date  \n",
       "135483              4          ELEC      779 days  \n",
       "135484              4          ELEC     1848 days  \n",
       "135485             26           GAZ     2779 days  \n",
       "135486              4          ELEC      878 days  \n",
       "135487              8          ELEC    10229 days  \n",
       "135488              4          ELEC      349 days  \n",
       "135489              4          ELEC     1090 days  \n",
       "135490              4          ELEC     1353 days  \n",
       "135491              8          ELEC     4258 days  \n",
       "135492              4          ELEC     3872 days  \n",
       "\n",
       "[10 rows x 22 columns]"
      ]
     },
     "execution_count": 81,
     "metadata": {},
     "output_type": "execute_result"
    }
   ],
   "source": [
    "train.tail(10)"
   ]
  },
  {
   "cell_type": "code",
   "execution_count": 64,
   "metadata": {},
   "outputs": [],
   "source": [
    "train.invoice_date=pd.to_datetime(train.invoice_date)"
   ]
  },
  {
   "cell_type": "code",
   "execution_count": 65,
   "metadata": {},
   "outputs": [
    {
     "data": {
      "text/plain": [
       "disrict                 0\n",
       "client_id               0\n",
       "client_catg             0\n",
       "region                  0\n",
       "creation_date           0\n",
       "target                  0\n",
       "invoice_date            0\n",
       "tarif_type              0\n",
       "counter_number          0\n",
       "counter_statue          0\n",
       "counter_code            0\n",
       "reading_remarque        0\n",
       "counter_coefficient     0\n",
       "consommation_level_1    0\n",
       "consommation_level_2    0\n",
       "consommation_level_3    0\n",
       "consommation_level_4    0\n",
       "old_index               0\n",
       "new_index               0\n",
       "months_number           0\n",
       "counter_type            0\n",
       "dtype: int64"
      ]
     },
     "execution_count": 65,
     "metadata": {},
     "output_type": "execute_result"
    }
   ],
   "source": [
    "train.isnull().sum()"
   ]
  },
  {
   "cell_type": "code",
   "execution_count": 66,
   "metadata": {},
   "outputs": [
    {
     "data": {
      "text/plain": [
       "disrict                          int64\n",
       "client_id                       object\n",
       "client_catg                      int64\n",
       "region                           int64\n",
       "creation_date           datetime64[ns]\n",
       "target                         float64\n",
       "invoice_date            datetime64[ns]\n",
       "tarif_type                       int64\n",
       "counter_number                   int64\n",
       "counter_statue                   int64\n",
       "counter_code                     int64\n",
       "reading_remarque                 int64\n",
       "counter_coefficient              int64\n",
       "consommation_level_1             int64\n",
       "consommation_level_2             int64\n",
       "consommation_level_3             int64\n",
       "consommation_level_4             int64\n",
       "old_index                        int64\n",
       "new_index                        int64\n",
       "months_number                    int64\n",
       "counter_type                    object\n",
       "dtype: object"
      ]
     },
     "execution_count": 66,
     "metadata": {},
     "output_type": "execute_result"
    }
   ],
   "source": [
    "train.dtypes"
   ]
  },
  {
   "cell_type": "code",
   "execution_count": 57,
   "metadata": {},
   "outputs": [],
   "source": [
    "train.creation_date=pd.to_datetime(train.creation_date)"
   ]
  },
  {
   "cell_type": "code",
   "execution_count": 67,
   "metadata": {},
   "outputs": [],
   "source": [
    "train[\"year_to_date\"]=train.invoice_date - train.creation_date"
   ]
  },
  {
   "cell_type": "code",
   "execution_count": 74,
   "metadata": {},
   "outputs": [],
   "source": [
    "to_find_date=train[train.target==1]"
   ]
  },
  {
   "cell_type": "code",
   "execution_count": 4,
   "metadata": {},
   "outputs": [
    {
     "data": {
      "text/html": [
       "<div>\n",
       "<style scoped>\n",
       "    .dataframe tbody tr th:only-of-type {\n",
       "        vertical-align: middle;\n",
       "    }\n",
       "\n",
       "    .dataframe tbody tr th {\n",
       "        vertical-align: top;\n",
       "    }\n",
       "\n",
       "    .dataframe thead th {\n",
       "        text-align: right;\n",
       "    }\n",
       "</style>\n",
       "<table border=\"1\" class=\"dataframe\">\n",
       "  <thead>\n",
       "    <tr style=\"text-align: right;\">\n",
       "      <th></th>\n",
       "      <th>disrict</th>\n",
       "      <th>client_id</th>\n",
       "      <th>client_catg</th>\n",
       "      <th>region</th>\n",
       "      <th>creation_date</th>\n",
       "      <th>invoice_date</th>\n",
       "      <th>tarif_type</th>\n",
       "      <th>counter_number</th>\n",
       "      <th>counter_statue</th>\n",
       "      <th>counter_code</th>\n",
       "      <th>reading_remarque</th>\n",
       "      <th>counter_coefficient</th>\n",
       "      <th>consommation_level_1</th>\n",
       "      <th>consommation_level_2</th>\n",
       "      <th>consommation_level_3</th>\n",
       "      <th>consommation_level_4</th>\n",
       "      <th>old_index</th>\n",
       "      <th>new_index</th>\n",
       "      <th>months_number</th>\n",
       "      <th>counter_type</th>\n",
       "    </tr>\n",
       "  </thead>\n",
       "  <tbody>\n",
       "    <tr>\n",
       "      <td>58059</td>\n",
       "      <td>62</td>\n",
       "      <td>test_Client_9990</td>\n",
       "      <td>11</td>\n",
       "      <td>371</td>\n",
       "      <td>30/07/2016</td>\n",
       "      <td>2018-11-28</td>\n",
       "      <td>11</td>\n",
       "      <td>2155701680400</td>\n",
       "      <td>0</td>\n",
       "      <td>207</td>\n",
       "      <td>9</td>\n",
       "      <td>1</td>\n",
       "      <td>341</td>\n",
       "      <td>0</td>\n",
       "      <td>0</td>\n",
       "      <td>0</td>\n",
       "      <td>2083</td>\n",
       "      <td>2424</td>\n",
       "      <td>4</td>\n",
       "      <td>ELEC</td>\n",
       "    </tr>\n",
       "    <tr>\n",
       "      <td>58060</td>\n",
       "      <td>60</td>\n",
       "      <td>test_Client_9991</td>\n",
       "      <td>11</td>\n",
       "      <td>101</td>\n",
       "      <td>17/10/2006</td>\n",
       "      <td>2010-10-08</td>\n",
       "      <td>11</td>\n",
       "      <td>784562</td>\n",
       "      <td>0</td>\n",
       "      <td>203</td>\n",
       "      <td>6</td>\n",
       "      <td>1</td>\n",
       "      <td>1200</td>\n",
       "      <td>19</td>\n",
       "      <td>0</td>\n",
       "      <td>0</td>\n",
       "      <td>29890</td>\n",
       "      <td>31109</td>\n",
       "      <td>4</td>\n",
       "      <td>ELEC</td>\n",
       "    </tr>\n",
       "    <tr>\n",
       "      <td>58061</td>\n",
       "      <td>69</td>\n",
       "      <td>test_Client_9992</td>\n",
       "      <td>11</td>\n",
       "      <td>104</td>\n",
       "      <td>07/04/1997</td>\n",
       "      <td>2009-02-03</td>\n",
       "      <td>11</td>\n",
       "      <td>15668</td>\n",
       "      <td>0</td>\n",
       "      <td>420</td>\n",
       "      <td>6</td>\n",
       "      <td>1</td>\n",
       "      <td>1200</td>\n",
       "      <td>4440</td>\n",
       "      <td>0</td>\n",
       "      <td>0</td>\n",
       "      <td>10559</td>\n",
       "      <td>16199</td>\n",
       "      <td>4</td>\n",
       "      <td>ELEC</td>\n",
       "    </tr>\n",
       "    <tr>\n",
       "      <td>58062</td>\n",
       "      <td>60</td>\n",
       "      <td>test_Client_9993</td>\n",
       "      <td>11</td>\n",
       "      <td>101</td>\n",
       "      <td>10/11/1987</td>\n",
       "      <td>2010-05-20</td>\n",
       "      <td>11</td>\n",
       "      <td>691422</td>\n",
       "      <td>0</td>\n",
       "      <td>203</td>\n",
       "      <td>6</td>\n",
       "      <td>1</td>\n",
       "      <td>639</td>\n",
       "      <td>0</td>\n",
       "      <td>0</td>\n",
       "      <td>0</td>\n",
       "      <td>24458</td>\n",
       "      <td>25097</td>\n",
       "      <td>4</td>\n",
       "      <td>ELEC</td>\n",
       "    </tr>\n",
       "    <tr>\n",
       "      <td>58063</td>\n",
       "      <td>69</td>\n",
       "      <td>test_Client_9994</td>\n",
       "      <td>11</td>\n",
       "      <td>104</td>\n",
       "      <td>07/04/1987</td>\n",
       "      <td>2011-08-18</td>\n",
       "      <td>40</td>\n",
       "      <td>164143</td>\n",
       "      <td>0</td>\n",
       "      <td>5</td>\n",
       "      <td>8</td>\n",
       "      <td>1</td>\n",
       "      <td>71</td>\n",
       "      <td>0</td>\n",
       "      <td>0</td>\n",
       "      <td>0</td>\n",
       "      <td>768</td>\n",
       "      <td>839</td>\n",
       "      <td>4</td>\n",
       "      <td>GAZ</td>\n",
       "    </tr>\n",
       "    <tr>\n",
       "      <td>58064</td>\n",
       "      <td>63</td>\n",
       "      <td>test_Client_9995</td>\n",
       "      <td>11</td>\n",
       "      <td>399</td>\n",
       "      <td>17/03/2010</td>\n",
       "      <td>2010-08-07</td>\n",
       "      <td>11</td>\n",
       "      <td>1251009</td>\n",
       "      <td>0</td>\n",
       "      <td>203</td>\n",
       "      <td>6</td>\n",
       "      <td>1</td>\n",
       "      <td>907</td>\n",
       "      <td>0</td>\n",
       "      <td>0</td>\n",
       "      <td>0</td>\n",
       "      <td>20269</td>\n",
       "      <td>21176</td>\n",
       "      <td>4</td>\n",
       "      <td>ELEC</td>\n",
       "    </tr>\n",
       "    <tr>\n",
       "      <td>58065</td>\n",
       "      <td>63</td>\n",
       "      <td>test_Client_9996</td>\n",
       "      <td>11</td>\n",
       "      <td>311</td>\n",
       "      <td>28/05/2011</td>\n",
       "      <td>2018-01-06</td>\n",
       "      <td>40</td>\n",
       "      <td>328772</td>\n",
       "      <td>0</td>\n",
       "      <td>5</td>\n",
       "      <td>6</td>\n",
       "      <td>1</td>\n",
       "      <td>120</td>\n",
       "      <td>0</td>\n",
       "      <td>0</td>\n",
       "      <td>0</td>\n",
       "      <td>1893</td>\n",
       "      <td>2013</td>\n",
       "      <td>4</td>\n",
       "      <td>GAZ</td>\n",
       "    </tr>\n",
       "    <tr>\n",
       "      <td>58066</td>\n",
       "      <td>60</td>\n",
       "      <td>test_Client_9997</td>\n",
       "      <td>11</td>\n",
       "      <td>101</td>\n",
       "      <td>04/03/1978</td>\n",
       "      <td>2010-05-08</td>\n",
       "      <td>10</td>\n",
       "      <td>7956758</td>\n",
       "      <td>0</td>\n",
       "      <td>202</td>\n",
       "      <td>9</td>\n",
       "      <td>1</td>\n",
       "      <td>100</td>\n",
       "      <td>174</td>\n",
       "      <td>0</td>\n",
       "      <td>0</td>\n",
       "      <td>19200</td>\n",
       "      <td>19474</td>\n",
       "      <td>2</td>\n",
       "      <td>ELEC</td>\n",
       "    </tr>\n",
       "    <tr>\n",
       "      <td>58067</td>\n",
       "      <td>60</td>\n",
       "      <td>test_Client_9998</td>\n",
       "      <td>11</td>\n",
       "      <td>101</td>\n",
       "      <td>23/02/2018</td>\n",
       "      <td>2018-04-24</td>\n",
       "      <td>11</td>\n",
       "      <td>2168700021859</td>\n",
       "      <td>0</td>\n",
       "      <td>420</td>\n",
       "      <td>9</td>\n",
       "      <td>1</td>\n",
       "      <td>800</td>\n",
       "      <td>400</td>\n",
       "      <td>727</td>\n",
       "      <td>0</td>\n",
       "      <td>0</td>\n",
       "      <td>1927</td>\n",
       "      <td>4</td>\n",
       "      <td>ELEC</td>\n",
       "    </tr>\n",
       "    <tr>\n",
       "      <td>58068</td>\n",
       "      <td>69</td>\n",
       "      <td>test_Client_9999</td>\n",
       "      <td>11</td>\n",
       "      <td>104</td>\n",
       "      <td>14/03/1990</td>\n",
       "      <td>2015-06-29</td>\n",
       "      <td>11</td>\n",
       "      <td>869269</td>\n",
       "      <td>0</td>\n",
       "      <td>203</td>\n",
       "      <td>9</td>\n",
       "      <td>1</td>\n",
       "      <td>520</td>\n",
       "      <td>0</td>\n",
       "      <td>0</td>\n",
       "      <td>0</td>\n",
       "      <td>27239</td>\n",
       "      <td>27759</td>\n",
       "      <td>4</td>\n",
       "      <td>ELEC</td>\n",
       "    </tr>\n",
       "  </tbody>\n",
       "</table>\n",
       "</div>"
      ],
      "text/plain": [
       "       disrict         client_id  client_catg  region creation_date  \\\n",
       "58059       62  test_Client_9990           11     371    30/07/2016   \n",
       "58060       60  test_Client_9991           11     101    17/10/2006   \n",
       "58061       69  test_Client_9992           11     104    07/04/1997   \n",
       "58062       60  test_Client_9993           11     101    10/11/1987   \n",
       "58063       69  test_Client_9994           11     104    07/04/1987   \n",
       "58064       63  test_Client_9995           11     399    17/03/2010   \n",
       "58065       63  test_Client_9996           11     311    28/05/2011   \n",
       "58066       60  test_Client_9997           11     101    04/03/1978   \n",
       "58067       60  test_Client_9998           11     101    23/02/2018   \n",
       "58068       69  test_Client_9999           11     104    14/03/1990   \n",
       "\n",
       "      invoice_date  tarif_type  counter_number  counter_statue  counter_code  \\\n",
       "58059   2018-11-28          11   2155701680400               0           207   \n",
       "58060   2010-10-08          11          784562               0           203   \n",
       "58061   2009-02-03          11           15668               0           420   \n",
       "58062   2010-05-20          11          691422               0           203   \n",
       "58063   2011-08-18          40          164143               0             5   \n",
       "58064   2010-08-07          11         1251009               0           203   \n",
       "58065   2018-01-06          40          328772               0             5   \n",
       "58066   2010-05-08          10         7956758               0           202   \n",
       "58067   2018-04-24          11   2168700021859               0           420   \n",
       "58068   2015-06-29          11          869269               0           203   \n",
       "\n",
       "       reading_remarque  counter_coefficient  consommation_level_1  \\\n",
       "58059                 9                    1                   341   \n",
       "58060                 6                    1                  1200   \n",
       "58061                 6                    1                  1200   \n",
       "58062                 6                    1                   639   \n",
       "58063                 8                    1                    71   \n",
       "58064                 6                    1                   907   \n",
       "58065                 6                    1                   120   \n",
       "58066                 9                    1                   100   \n",
       "58067                 9                    1                   800   \n",
       "58068                 9                    1                   520   \n",
       "\n",
       "       consommation_level_2  consommation_level_3  consommation_level_4  \\\n",
       "58059                     0                     0                     0   \n",
       "58060                    19                     0                     0   \n",
       "58061                  4440                     0                     0   \n",
       "58062                     0                     0                     0   \n",
       "58063                     0                     0                     0   \n",
       "58064                     0                     0                     0   \n",
       "58065                     0                     0                     0   \n",
       "58066                   174                     0                     0   \n",
       "58067                   400                   727                     0   \n",
       "58068                     0                     0                     0   \n",
       "\n",
       "       old_index  new_index  months_number counter_type  \n",
       "58059       2083       2424              4         ELEC  \n",
       "58060      29890      31109              4         ELEC  \n",
       "58061      10559      16199              4         ELEC  \n",
       "58062      24458      25097              4         ELEC  \n",
       "58063        768        839              4          GAZ  \n",
       "58064      20269      21176              4         ELEC  \n",
       "58065       1893       2013              4          GAZ  \n",
       "58066      19200      19474              2         ELEC  \n",
       "58067          0       1927              4         ELEC  \n",
       "58068      27239      27759              4         ELEC  "
      ]
     },
     "execution_count": 4,
     "metadata": {},
     "output_type": "execute_result"
    }
   ],
   "source": [
    "test.tail(10)"
   ]
  },
  {
   "cell_type": "markdown",
   "metadata": {},
   "source": [
    "### let's start by counting the number of fraudulent and none-fraudulent client_id"
   ]
  },
  {
   "cell_type": "code",
   "execution_count": 5,
   "metadata": {},
   "outputs": [
    {
     "data": {
      "text/plain": [
       "0.0    127927\n",
       "1.0      7566\n",
       "Name: target, dtype: int64"
      ]
     },
     "execution_count": 5,
     "metadata": {},
     "output_type": "execute_result"
    }
   ],
   "source": [
    "train['target'].value_counts()"
   ]
  },
  {
   "cell_type": "code",
   "execution_count": 6,
   "metadata": {},
   "outputs": [
    {
     "name": "stdout",
     "output_type": "stream",
     "text": [
      "percentage non-fraudulent: 94.42 \n",
      "percentage fraudulent: 5.58\n"
     ]
    }
   ],
   "source": [
    "print('percentage non-fraudulent: {:.2f} \\npercentage fraudulent: {:.2f}'.format((127927/135493)*100,(7566/135493)*100))"
   ]
  },
  {
   "cell_type": "markdown",
   "metadata": {},
   "source": [
    "### Alright we have 7566 fraudulent and 127927 non fraudulent clients\n",
    "1. i will try to find out how the data has been structured, first of all we know we have to deal with an imbalanced dataset (traget)\n",
    "2. Also is there any relationship between the target and categorical variable? "
   ]
  },
  {
   "cell_type": "code",
   "execution_count": 7,
   "metadata": {},
   "outputs": [
    {
     "data": {
      "text/plain": [
       "'01/01/1997'"
      ]
     },
     "execution_count": 7,
     "metadata": {},
     "output_type": "execute_result"
    }
   ],
   "source": [
    "train.creation_date.min()"
   ]
  },
  {
   "cell_type": "code",
   "execution_count": 8,
   "metadata": {},
   "outputs": [
    {
     "data": {
      "text/plain": [
       "'31/12/2018'"
      ]
     },
     "execution_count": 8,
     "metadata": {},
     "output_type": "execute_result"
    }
   ],
   "source": [
    "train.creation_date.max()"
   ]
  },
  {
   "cell_type": "code",
   "execution_count": 9,
   "metadata": {},
   "outputs": [
    {
     "data": {
      "text/plain": [
       "'01/01/1997'"
      ]
     },
     "execution_count": 9,
     "metadata": {},
     "output_type": "execute_result"
    }
   ],
   "source": [
    "test.creation_date.min()"
   ]
  },
  {
   "cell_type": "code",
   "execution_count": 10,
   "metadata": {},
   "outputs": [
    {
     "data": {
      "text/plain": [
       "'31/12/2018'"
      ]
     },
     "execution_count": 10,
     "metadata": {},
     "output_type": "execute_result"
    }
   ],
   "source": [
    "test.creation_date.max()"
   ]
  },
  {
   "cell_type": "markdown",
   "metadata": {},
   "source": [
    "It seems as the test set and train set has been collected at the same moment.."
   ]
  },
  {
   "cell_type": "code",
   "execution_count": 11,
   "metadata": {},
   "outputs": [
    {
     "data": {
      "text/plain": [
       "0         130665\n",
       "1           3785\n",
       "5            714\n",
       "4            276\n",
       "3             46\n",
       "2              5\n",
       "618            1\n",
       "269375         1\n",
       "Name: counter_statue, dtype: int64"
      ]
     },
     "execution_count": 11,
     "metadata": {},
     "output_type": "execute_result"
    }
   ],
   "source": [
    "train.counter_statue.value_counts()"
   ]
  },
  {
   "cell_type": "code",
   "execution_count": 12,
   "metadata": {},
   "outputs": [
    {
     "data": {
      "text/plain": [
       "0    55948\n",
       "1     1676\n",
       "5      324\n",
       "4      106\n",
       "3       12\n",
       "2        3\n",
       "Name: counter_statue, dtype: int64"
      ]
     },
     "execution_count": 12,
     "metadata": {},
     "output_type": "execute_result"
    }
   ],
   "source": [
    "test.counter_statue.value_counts()"
   ]
  },
  {
   "cell_type": "code",
   "execution_count": 13,
   "metadata": {},
   "outputs": [
    {
     "data": {
      "text/plain": [
       "<matplotlib.axes._subplots.AxesSubplot at 0x24472ab2c88>"
      ]
     },
     "execution_count": 13,
     "metadata": {},
     "output_type": "execute_result"
    },
    {
     "data": {
      "image/png": "[encoded data removed]",
      "text/plain": [
       "<Figure size 432x288 with 1 Axes>"
      ]
     },
     "metadata": {
      "needs_background": "light"
     },
     "output_type": "display_data"
    }
   ],
   "source": [
    "sb.countplot(data=train,x='counter_statue')"
   ]
  },
  {
   "cell_type": "code",
   "execution_count": 14,
   "metadata": {},
   "outputs": [
    {
     "data": {
      "text/plain": [
       "1    159\n",
       "5     57\n",
       "Name: counter_statue, dtype: int64"
      ]
     },
     "execution_count": 14,
     "metadata": {},
     "output_type": "execute_result"
    }
   ],
   "source": [
    "train[(train.counter_statue) & (train.target==1)].counter_statue.value_counts()"
   ]
  },
  {
   "cell_type": "code",
   "execution_count": 15,
   "metadata": {},
   "outputs": [
    {
     "data": {
      "text/plain": [
       "1         3626\n",
       "5          657\n",
       "3           46\n",
       "269375       1\n",
       "Name: counter_statue, dtype: int64"
      ]
     },
     "execution_count": 15,
     "metadata": {},
     "output_type": "execute_result"
    }
   ],
   "source": [
    "train[(train.counter_statue) & (train.target==0)].counter_statue.value_counts()"
   ]
  },
  {
   "cell_type": "markdown",
   "metadata": {},
   "source": [
    "from the variable description file, __counter_statue__ takes up to 5 values such as working fine,not working..etc\n",
    "from the result above we can deduce that only the statue numbers __1__,__5__,__3__,__269375__ reveal informations on the target"
   ]
  },
  {
   "cell_type": "code",
   "execution_count": 16,
   "metadata": {},
   "outputs": [
    {
     "data": {
      "text/plain": [
       "6      65287\n",
       "9      47991\n",
       "8      21979\n",
       "7        234\n",
       "203        1\n",
       "413        1\n",
       "Name: reading_remarque, dtype: int64"
      ]
     },
     "execution_count": 16,
     "metadata": {},
     "output_type": "execute_result"
    }
   ],
   "source": [
    "train.reading_remarque.value_counts()"
   ]
  },
  {
   "cell_type": "code",
   "execution_count": 23,
   "metadata": {},
   "outputs": [
    {
     "name": "stdout",
     "output_type": "stream",
     "text": [
      "percentage values 0.17\n"
     ]
    }
   ],
   "source": [
    "print('percentage values {:.2f}'.format((236/135493)*100))"
   ]
  },
  {
   "cell_type": "code",
   "execution_count": 24,
   "metadata": {},
   "outputs": [
    {
     "data": {
      "text/plain": [
       "6    27875\n",
       "9    20660\n",
       "8     9420\n",
       "7      114\n",
       "Name: reading_remarque, dtype: int64"
      ]
     },
     "execution_count": 24,
     "metadata": {},
     "output_type": "execute_result"
    }
   ],
   "source": [
    "test.reading_remarque.value_counts()"
   ]
  },
  {
   "cell_type": "markdown",
   "metadata": {},
   "source": [
    "the reading remarque are split with thesame ratio in train and test set"
   ]
  },
  {
   "cell_type": "code",
   "execution_count": 25,
   "metadata": {},
   "outputs": [
    {
     "name": "stdout",
     "output_type": "stream",
     "text": [
      "percentage values 0.20\n"
     ]
    }
   ],
   "source": [
    "print('percentage values {:.2f}'.format((114/58069)*100))"
   ]
  },
  {
   "cell_type": "code",
   "execution_count": 26,
   "metadata": {},
   "outputs": [
    {
     "data": {
      "text/plain": [
       "9    2724\n",
       "Name: reading_remarque, dtype: int64"
      ]
     },
     "execution_count": 26,
     "metadata": {},
     "output_type": "execute_result"
    }
   ],
   "source": [
    "train[(train.reading_remarque) & (train.target==1)].reading_remarque.value_counts()"
   ]
  },
  {
   "cell_type": "markdown",
   "metadata": {},
   "source": [
    "Does this means that the only reading_remarque value number __9__ gives a bad result with respect to fraudulent value? lets check it out.."
   ]
  },
  {
   "cell_type": "code",
   "execution_count": 27,
   "metadata": {},
   "outputs": [
    {
     "data": {
      "text/plain": [
       "9      45267\n",
       "7        234\n",
       "413        1\n",
       "203        1\n",
       "Name: reading_remarque, dtype: int64"
      ]
     },
     "execution_count": 27,
     "metadata": {},
     "output_type": "execute_result"
    }
   ],
   "source": [
    "train[(train.reading_remarque) & (train.target==0)].reading_remarque.value_counts()"
   ]
  },
  {
   "cell_type": "markdown",
   "metadata": {},
   "source": [
    "Waouh the training dataset reveal that with respect to the target, the training remarque __6__ and __8__ gives no information,can we creat 3 categories? one as been good_remarque, order as bad and the order as been unknown and this goes same for the other categories "
   ]
  },
  {
   "cell_type": "code",
   "execution_count": 28,
   "metadata": {},
   "outputs": [
    {
     "data": {
      "text/plain": [
       "1     135456\n",
       "2         20\n",
       "3          9\n",
       "40         2\n",
       "6          2\n",
       "50         1\n",
       "30         1\n",
       "20         1\n",
       "0          1\n",
       "Name: counter_coefficient, dtype: int64"
      ]
     },
     "execution_count": 28,
     "metadata": {},
     "output_type": "execute_result"
    }
   ],
   "source": [
    "train.counter_coefficient.value_counts()"
   ]
  },
  {
   "cell_type": "code",
   "execution_count": 29,
   "metadata": {},
   "outputs": [
    {
     "name": "stdout",
     "output_type": "stream",
     "text": [
      "percentage 1 99.973\n"
     ]
    }
   ],
   "source": [
    "print('percentage 1 {:.3f}'.format((135456/135493)*100))"
   ]
  },
  {
   "cell_type": "code",
   "execution_count": 30,
   "metadata": {},
   "outputs": [
    {
     "data": {
      "text/plain": [
       "1     58053\n",
       "2        11\n",
       "3         3\n",
       "10        1\n",
       "4         1\n",
       "Name: counter_coefficient, dtype: int64"
      ]
     },
     "execution_count": 30,
     "metadata": {},
     "output_type": "execute_result"
    }
   ],
   "source": [
    "test.counter_coefficient.value_counts()"
   ]
  },
  {
   "cell_type": "code",
   "execution_count": 31,
   "metadata": {},
   "outputs": [
    {
     "name": "stdout",
     "output_type": "stream",
     "text": [
      "percentage 1 99.972\n"
     ]
    }
   ],
   "source": [
    "print('percentage 1 {:.3f}'.format((58053/58069)*100))"
   ]
  },
  {
   "cell_type": "markdown",
   "metadata": {},
   "source": [
    "not tested for every body but i think each category in the testset has been split with the same ratio as the trainset it is important to note that..does that means the target's test set is splitted with thesame ratio as the target's train set?"
   ]
  },
  {
   "cell_type": "code",
   "execution_count": 32,
   "metadata": {},
   "outputs": [
    {
     "data": {
      "text/plain": [
       "4         102817\n",
       "2          11794\n",
       "8           9913\n",
       "12          2459\n",
       "6           2114\n",
       "           ...  \n",
       "97846          1\n",
       "55             1\n",
       "472737         1\n",
       "183            1\n",
       "331609         1\n",
       "Name: months_number, Length: 93, dtype: int64"
      ]
     },
     "execution_count": 32,
     "metadata": {},
     "output_type": "execute_result"
    }
   ],
   "source": [
    "train.months_number.value_counts()"
   ]
  },
  {
   "cell_type": "code",
   "execution_count": 33,
   "metadata": {},
   "outputs": [
    {
     "data": {
      "text/plain": [
       "4        44277\n",
       "2         4949\n",
       "8         4156\n",
       "12        1064\n",
       "6          942\n",
       "         ...  \n",
       "8744         1\n",
       "36507        1\n",
       "41           1\n",
       "77357        1\n",
       "45           1\n",
       "Name: months_number, Length: 71, dtype: int64"
      ]
     },
     "execution_count": 33,
     "metadata": {},
     "output_type": "execute_result"
    }
   ],
   "source": [
    "test.months_number.value_counts()"
   ]
  },
  {
   "cell_type": "markdown",
   "metadata": {},
   "source": [
    "what we should conclude is that we must take care of categories balancing..."
   ]
  },
  {
   "cell_type": "markdown",
   "metadata": {},
   "source": [
    "### The train and test set _creation_date_ reveal an information they seems to have been collected at the same period \n",
    "1. also there are many categorical variable which we will going to groupby target to see whether we can get information about that"
   ]
  },
  {
   "cell_type": "code",
   "execution_count": 34,
   "metadata": {},
   "outputs": [
    {
     "data": {
      "text/plain": [
       "ELEC    106673\n",
       "GAZ      28820\n",
       "Name: counter_type, dtype: int64"
      ]
     },
     "execution_count": 34,
     "metadata": {},
     "output_type": "execute_result"
    }
   ],
   "source": [
    "train.counter_type.value_counts()"
   ]
  },
  {
   "cell_type": "code",
   "execution_count": 35,
   "metadata": {},
   "outputs": [
    {
     "name": "stdout",
     "output_type": "stream",
     "text": [
      "percentage ELEC: 78.73 \n",
      "percentage GAZ: 21.27\n"
     ]
    }
   ],
   "source": [
    "print('percentage ELEC: {:.2f} \\npercentage GAZ: {:.2f}'.format((106673/135493)*100,(28820/135493)*100))"
   ]
  },
  {
   "cell_type": "code",
   "execution_count": 36,
   "metadata": {},
   "outputs": [
    {
     "data": {
      "text/plain": [
       "ELEC    45763\n",
       "GAZ     12306\n",
       "Name: counter_type, dtype: int64"
      ]
     },
     "execution_count": 36,
     "metadata": {},
     "output_type": "execute_result"
    }
   ],
   "source": [
    "test.counter_type.value_counts()"
   ]
  },
  {
   "cell_type": "code",
   "execution_count": 37,
   "metadata": {},
   "outputs": [
    {
     "name": "stdout",
     "output_type": "stream",
     "text": [
      "percentage ELEC: 78.81 \n",
      "percentage GAZ: 21.19\n"
     ]
    }
   ],
   "source": [
    "print('percentage ELEC: {:.2f} \\npercentage GAZ: {:.2f}'.format((45763/58069)*100,(12306/58069)*100))"
   ]
  },
  {
   "cell_type": "markdown",
   "metadata": {},
   "source": [
    "after googling we got a new variable which we will use in feature engineering __consumption reading__"
   ]
  },
  {
   "cell_type": "code",
   "execution_count": 38,
   "metadata": {},
   "outputs": [
    {
     "data": {
      "text/plain": [
       "ELEC    101119\n",
       "Name: counter_type, dtype: int64"
      ]
     },
     "execution_count": 38,
     "metadata": {},
     "output_type": "execute_result"
    }
   ],
   "source": [
    "train[(train.counter_type=='ELEC')&(train.target==0)].counter_type.value_counts()"
   ]
  },
  {
   "cell_type": "markdown",
   "metadata": {},
   "source": [
    "most people using gaz counter energy seems to be much likely to be fraudulent compare to electrical counter enrgy"
   ]
  },
  {
   "cell_type": "code",
   "execution_count": 39,
   "metadata": {},
   "outputs": [
    {
     "data": {
      "text/plain": [
       "11    131494\n",
       "12      2321\n",
       "51      1678\n",
       "Name: client_catg, dtype: int64"
      ]
     },
     "execution_count": 39,
     "metadata": {},
     "output_type": "execute_result"
    }
   ],
   "source": [
    "train.client_catg.value_counts()"
   ]
  },
  {
   "cell_type": "code",
   "execution_count": 40,
   "metadata": {},
   "outputs": [
    {
     "data": {
      "text/plain": [
       "11    56305\n",
       "12     1054\n",
       "51      710\n",
       "Name: client_catg, dtype: int64"
      ]
     },
     "execution_count": 40,
     "metadata": {},
     "output_type": "execute_result"
    }
   ],
   "source": [
    "test.client_catg.value_counts()"
   ]
  },
  {
   "cell_type": "code",
   "execution_count": 41,
   "metadata": {},
   "outputs": [
    {
     "data": {
      "text/plain": [
       "11    94030\n",
       "40    28600\n",
       "10    10284\n",
       "15     1381\n",
       "29      233\n",
       "45      214\n",
       "13      211\n",
       "14      208\n",
       "12      185\n",
       "9       134\n",
       "30        6\n",
       "21        5\n",
       "24        1\n",
       "8         1\n",
       "Name: tarif_type, dtype: int64"
      ]
     },
     "execution_count": 41,
     "metadata": {},
     "output_type": "execute_result"
    }
   ],
   "source": [
    "train.tarif_type.value_counts()"
   ]
  },
  {
   "cell_type": "code",
   "execution_count": 42,
   "metadata": {},
   "outputs": [
    {
     "data": {
      "text/plain": [
       "11    40250\n",
       "40    12214\n",
       "10     4491\n",
       "15      587\n",
       "13      106\n",
       "14       93\n",
       "29       92\n",
       "45       92\n",
       "12       85\n",
       "9        53\n",
       "21        4\n",
       "27        1\n",
       "24        1\n",
       "Name: tarif_type, dtype: int64"
      ]
     },
     "execution_count": 42,
     "metadata": {},
     "output_type": "execute_result"
    }
   ],
   "source": [
    "test.tarif_type.value_counts()"
   ]
  },
  {
   "cell_type": "markdown",
   "metadata": {},
   "source": [
    "we can dissociate the different categories and i think those with very high numbers counts, are most likely to give a non-fraudulent remark but it does'nt exclude the fact that some are still fraudulent can we get inside from that?\n",
    "1. is there any old_index greater than the new index?"
   ]
  },
  {
   "cell_type": "code",
   "execution_count": 43,
   "metadata": {},
   "outputs": [
    {
     "data": {
      "text/plain": [
       "0.0    76\n",
       "1.0     8\n",
       "Name: target, dtype: int64"
      ]
     },
     "execution_count": 43,
     "metadata": {},
     "output_type": "execute_result"
    }
   ],
   "source": [
    "hd=train[(train.old_index)>(train.new_index)]\n",
    "hd.target.value_counts()"
   ]
  },
  {
   "cell_type": "code",
   "execution_count": 44,
   "metadata": {},
   "outputs": [
    {
     "data": {
      "text/html": [
       "<div>\n",
       "<style scoped>\n",
       "    .dataframe tbody tr th:only-of-type {\n",
       "        vertical-align: middle;\n",
       "    }\n",
       "\n",
       "    .dataframe tbody tr th {\n",
       "        vertical-align: top;\n",
       "    }\n",
       "\n",
       "    .dataframe thead th {\n",
       "        text-align: right;\n",
       "    }\n",
       "</style>\n",
       "<table border=\"1\" class=\"dataframe\">\n",
       "  <thead>\n",
       "    <tr style=\"text-align: right;\">\n",
       "      <th></th>\n",
       "      <th>disrict</th>\n",
       "      <th>client_id</th>\n",
       "      <th>client_catg</th>\n",
       "      <th>region</th>\n",
       "      <th>creation_date</th>\n",
       "      <th>target</th>\n",
       "      <th>invoice_date</th>\n",
       "      <th>tarif_type</th>\n",
       "      <th>counter_number</th>\n",
       "      <th>counter_statue</th>\n",
       "      <th>...</th>\n",
       "      <th>reading_remarque</th>\n",
       "      <th>counter_coefficient</th>\n",
       "      <th>consommation_level_1</th>\n",
       "      <th>consommation_level_2</th>\n",
       "      <th>consommation_level_3</th>\n",
       "      <th>consommation_level_4</th>\n",
       "      <th>old_index</th>\n",
       "      <th>new_index</th>\n",
       "      <th>months_number</th>\n",
       "      <th>counter_type</th>\n",
       "    </tr>\n",
       "  </thead>\n",
       "  <tbody>\n",
       "    <tr>\n",
       "      <td>126738</td>\n",
       "      <td>60</td>\n",
       "      <td>train_Client_92118</td>\n",
       "      <td>11</td>\n",
       "      <td>101</td>\n",
       "      <td>06/11/1986</td>\n",
       "      <td>0.0</td>\n",
       "      <td>2011-06-07</td>\n",
       "      <td>11</td>\n",
       "      <td>3659214</td>\n",
       "      <td>0</td>\n",
       "      <td>...</td>\n",
       "      <td>6</td>\n",
       "      <td>1</td>\n",
       "      <td>1200</td>\n",
       "      <td>1731</td>\n",
       "      <td>0</td>\n",
       "      <td>0</td>\n",
       "      <td>97780</td>\n",
       "      <td>711</td>\n",
       "      <td>4</td>\n",
       "      <td>ELEC</td>\n",
       "    </tr>\n",
       "    <tr>\n",
       "      <td>128390</td>\n",
       "      <td>69</td>\n",
       "      <td>train_Client_93605</td>\n",
       "      <td>11</td>\n",
       "      <td>107</td>\n",
       "      <td>23/12/1988</td>\n",
       "      <td>0.0</td>\n",
       "      <td>2016-12-05</td>\n",
       "      <td>11</td>\n",
       "      <td>698900</td>\n",
       "      <td>0</td>\n",
       "      <td>...</td>\n",
       "      <td>9</td>\n",
       "      <td>1</td>\n",
       "      <td>800</td>\n",
       "      <td>400</td>\n",
       "      <td>800</td>\n",
       "      <td>8439</td>\n",
       "      <td>90827</td>\n",
       "      <td>1266</td>\n",
       "      <td>4</td>\n",
       "      <td>ELEC</td>\n",
       "    </tr>\n",
       "    <tr>\n",
       "      <td>129061</td>\n",
       "      <td>60</td>\n",
       "      <td>train_Client_94209</td>\n",
       "      <td>11</td>\n",
       "      <td>101</td>\n",
       "      <td>31/10/2007</td>\n",
       "      <td>0.0</td>\n",
       "      <td>2009-04-03</td>\n",
       "      <td>11</td>\n",
       "      <td>8322016</td>\n",
       "      <td>0</td>\n",
       "      <td>...</td>\n",
       "      <td>6</td>\n",
       "      <td>1</td>\n",
       "      <td>1200</td>\n",
       "      <td>191</td>\n",
       "      <td>0</td>\n",
       "      <td>0</td>\n",
       "      <td>8967</td>\n",
       "      <td>358</td>\n",
       "      <td>4</td>\n",
       "      <td>ELEC</td>\n",
       "    </tr>\n",
       "    <tr>\n",
       "      <td>132914</td>\n",
       "      <td>62</td>\n",
       "      <td>train_Client_97678</td>\n",
       "      <td>11</td>\n",
       "      <td>310</td>\n",
       "      <td>03/12/1980</td>\n",
       "      <td>1.0</td>\n",
       "      <td>2006-03-05</td>\n",
       "      <td>13</td>\n",
       "      <td>630254</td>\n",
       "      <td>0</td>\n",
       "      <td>...</td>\n",
       "      <td>6</td>\n",
       "      <td>1</td>\n",
       "      <td>2022</td>\n",
       "      <td>0</td>\n",
       "      <td>0</td>\n",
       "      <td>0</td>\n",
       "      <td>99523</td>\n",
       "      <td>1545</td>\n",
       "      <td>2</td>\n",
       "      <td>ELEC</td>\n",
       "    </tr>\n",
       "    <tr>\n",
       "      <td>133485</td>\n",
       "      <td>60</td>\n",
       "      <td>train_Client_98191</td>\n",
       "      <td>11</td>\n",
       "      <td>101</td>\n",
       "      <td>01/02/2007</td>\n",
       "      <td>0.0</td>\n",
       "      <td>2018-02-07</td>\n",
       "      <td>15</td>\n",
       "      <td>8393743</td>\n",
       "      <td>0</td>\n",
       "      <td>...</td>\n",
       "      <td>8</td>\n",
       "      <td>1</td>\n",
       "      <td>399</td>\n",
       "      <td>0</td>\n",
       "      <td>0</td>\n",
       "      <td>0</td>\n",
       "      <td>9705</td>\n",
       "      <td>104</td>\n",
       "      <td>8</td>\n",
       "      <td>ELEC</td>\n",
       "    </tr>\n",
       "  </tbody>\n",
       "</table>\n",
       "<p>5 rows × 21 columns</p>\n",
       "</div>"
      ],
      "text/plain": [
       "        disrict           client_id  client_catg  region creation_date  \\\n",
       "126738       60  train_Client_92118           11     101    06/11/1986   \n",
       "128390       69  train_Client_93605           11     107    23/12/1988   \n",
       "129061       60  train_Client_94209           11     101    31/10/2007   \n",
       "132914       62  train_Client_97678           11     310    03/12/1980   \n",
       "133485       60  train_Client_98191           11     101    01/02/2007   \n",
       "\n",
       "        target invoice_date  tarif_type  counter_number  counter_statue  ...  \\\n",
       "126738     0.0   2011-06-07          11         3659214               0  ...   \n",
       "128390     0.0   2016-12-05          11          698900               0  ...   \n",
       "129061     0.0   2009-04-03          11         8322016               0  ...   \n",
       "132914     1.0   2006-03-05          13          630254               0  ...   \n",
       "133485     0.0   2018-02-07          15         8393743               0  ...   \n",
       "\n",
       "        reading_remarque  counter_coefficient  consommation_level_1  \\\n",
       "126738                 6                    1                  1200   \n",
       "128390                 9                    1                   800   \n",
       "129061                 6                    1                  1200   \n",
       "132914                 6                    1                  2022   \n",
       "133485                 8                    1                   399   \n",
       "\n",
       "        consommation_level_2  consommation_level_3  consommation_level_4  \\\n",
       "126738                  1731                     0                     0   \n",
       "128390                   400                   800                  8439   \n",
       "129061                   191                     0                     0   \n",
       "132914                     0                     0                     0   \n",
       "133485                     0                     0                     0   \n",
       "\n",
       "        old_index  new_index  months_number  counter_type  \n",
       "126738      97780        711              4          ELEC  \n",
       "128390      90827       1266              4          ELEC  \n",
       "129061       8967        358              4          ELEC  \n",
       "132914      99523       1545              2          ELEC  \n",
       "133485       9705        104              8          ELEC  \n",
       "\n",
       "[5 rows x 21 columns]"
      ]
     },
     "execution_count": 44,
     "metadata": {},
     "output_type": "execute_result"
    }
   ],
   "source": [
    "hd.tail()"
   ]
  },
  {
   "cell_type": "markdown",
   "metadata": {},
   "source": [
    "Waouh i taught getting an old_index greater than the new one will reveal any information but it does'nt"
   ]
  },
  {
   "cell_type": "markdown",
   "metadata": {},
   "source": [
    "let's try to get more insights"
   ]
  },
  {
   "cell_type": "code",
   "execution_count": 45,
   "metadata": {},
   "outputs": [],
   "source": [
    "let=train[train.target==1]"
   ]
  },
  {
   "cell_type": "code",
   "execution_count": 46,
   "metadata": {},
   "outputs": [
    {
     "data": {
      "text/html": [
       "<div>\n",
       "<style scoped>\n",
       "    .dataframe tbody tr th:only-of-type {\n",
       "        vertical-align: middle;\n",
       "    }\n",
       "\n",
       "    .dataframe tbody tr th {\n",
       "        vertical-align: top;\n",
       "    }\n",
       "\n",
       "    .dataframe thead th {\n",
       "        text-align: right;\n",
       "    }\n",
       "</style>\n",
       "<table border=\"1\" class=\"dataframe\">\n",
       "  <thead>\n",
       "    <tr style=\"text-align: right;\">\n",
       "      <th></th>\n",
       "      <th>disrict</th>\n",
       "      <th>client_id</th>\n",
       "      <th>client_catg</th>\n",
       "      <th>region</th>\n",
       "      <th>creation_date</th>\n",
       "      <th>target</th>\n",
       "      <th>invoice_date</th>\n",
       "      <th>tarif_type</th>\n",
       "      <th>counter_number</th>\n",
       "      <th>counter_statue</th>\n",
       "      <th>...</th>\n",
       "      <th>reading_remarque</th>\n",
       "      <th>counter_coefficient</th>\n",
       "      <th>consommation_level_1</th>\n",
       "      <th>consommation_level_2</th>\n",
       "      <th>consommation_level_3</th>\n",
       "      <th>consommation_level_4</th>\n",
       "      <th>old_index</th>\n",
       "      <th>new_index</th>\n",
       "      <th>months_number</th>\n",
       "      <th>counter_type</th>\n",
       "    </tr>\n",
       "  </thead>\n",
       "  <tbody>\n",
       "    <tr>\n",
       "      <td>41</td>\n",
       "      <td>63</td>\n",
       "      <td>train_Client_100032</td>\n",
       "      <td>11</td>\n",
       "      <td>308</td>\n",
       "      <td>07/11/2012</td>\n",
       "      <td>1.0</td>\n",
       "      <td>2017-02-24</td>\n",
       "      <td>11</td>\n",
       "      <td>393848</td>\n",
       "      <td>0</td>\n",
       "      <td>...</td>\n",
       "      <td>9</td>\n",
       "      <td>1</td>\n",
       "      <td>781</td>\n",
       "      <td>0</td>\n",
       "      <td>0</td>\n",
       "      <td>0</td>\n",
       "      <td>3844</td>\n",
       "      <td>4625</td>\n",
       "      <td>8</td>\n",
       "      <td>ELEC</td>\n",
       "    </tr>\n",
       "    <tr>\n",
       "      <td>46</td>\n",
       "      <td>62</td>\n",
       "      <td>train_Client_100037</td>\n",
       "      <td>11</td>\n",
       "      <td>307</td>\n",
       "      <td>16/09/2009</td>\n",
       "      <td>1.0</td>\n",
       "      <td>2012-09-19</td>\n",
       "      <td>11</td>\n",
       "      <td>125055</td>\n",
       "      <td>0</td>\n",
       "      <td>...</td>\n",
       "      <td>8</td>\n",
       "      <td>1</td>\n",
       "      <td>2144</td>\n",
       "      <td>0</td>\n",
       "      <td>0</td>\n",
       "      <td>0</td>\n",
       "      <td>7527</td>\n",
       "      <td>9671</td>\n",
       "      <td>8</td>\n",
       "      <td>ELEC</td>\n",
       "    </tr>\n",
       "    <tr>\n",
       "      <td>97</td>\n",
       "      <td>69</td>\n",
       "      <td>train_Client_100083</td>\n",
       "      <td>11</td>\n",
       "      <td>107</td>\n",
       "      <td>26/10/1982</td>\n",
       "      <td>1.0</td>\n",
       "      <td>2008-07-17</td>\n",
       "      <td>11</td>\n",
       "      <td>236489</td>\n",
       "      <td>0</td>\n",
       "      <td>...</td>\n",
       "      <td>6</td>\n",
       "      <td>1</td>\n",
       "      <td>400</td>\n",
       "      <td>0</td>\n",
       "      <td>0</td>\n",
       "      <td>0</td>\n",
       "      <td>36706</td>\n",
       "      <td>37106</td>\n",
       "      <td>4</td>\n",
       "      <td>ELEC</td>\n",
       "    </tr>\n",
       "    <tr>\n",
       "      <td>106</td>\n",
       "      <td>60</td>\n",
       "      <td>train_Client_100091</td>\n",
       "      <td>11</td>\n",
       "      <td>101</td>\n",
       "      <td>22/02/2011</td>\n",
       "      <td>1.0</td>\n",
       "      <td>2014-06-24</td>\n",
       "      <td>40</td>\n",
       "      <td>425183</td>\n",
       "      <td>0</td>\n",
       "      <td>...</td>\n",
       "      <td>6</td>\n",
       "      <td>1</td>\n",
       "      <td>0</td>\n",
       "      <td>0</td>\n",
       "      <td>0</td>\n",
       "      <td>0</td>\n",
       "      <td>0</td>\n",
       "      <td>0</td>\n",
       "      <td>4</td>\n",
       "      <td>GAZ</td>\n",
       "    </tr>\n",
       "    <tr>\n",
       "      <td>126</td>\n",
       "      <td>63</td>\n",
       "      <td>train_Client_100109</td>\n",
       "      <td>11</td>\n",
       "      <td>312</td>\n",
       "      <td>27/12/1990</td>\n",
       "      <td>1.0</td>\n",
       "      <td>2008-07-29</td>\n",
       "      <td>11</td>\n",
       "      <td>57323</td>\n",
       "      <td>0</td>\n",
       "      <td>...</td>\n",
       "      <td>6</td>\n",
       "      <td>1</td>\n",
       "      <td>124</td>\n",
       "      <td>0</td>\n",
       "      <td>0</td>\n",
       "      <td>0</td>\n",
       "      <td>2253</td>\n",
       "      <td>2377</td>\n",
       "      <td>4</td>\n",
       "      <td>ELEC</td>\n",
       "    </tr>\n",
       "    <tr>\n",
       "      <td>152</td>\n",
       "      <td>69</td>\n",
       "      <td>train_Client_100132</td>\n",
       "      <td>11</td>\n",
       "      <td>106</td>\n",
       "      <td>31/12/1990</td>\n",
       "      <td>1.0</td>\n",
       "      <td>2005-12-20</td>\n",
       "      <td>11</td>\n",
       "      <td>40582</td>\n",
       "      <td>0</td>\n",
       "      <td>...</td>\n",
       "      <td>6</td>\n",
       "      <td>1</td>\n",
       "      <td>1200</td>\n",
       "      <td>891</td>\n",
       "      <td>0</td>\n",
       "      <td>0</td>\n",
       "      <td>17523</td>\n",
       "      <td>19614</td>\n",
       "      <td>4</td>\n",
       "      <td>ELEC</td>\n",
       "    </tr>\n",
       "    <tr>\n",
       "      <td>201</td>\n",
       "      <td>63</td>\n",
       "      <td>train_Client_100177</td>\n",
       "      <td>11</td>\n",
       "      <td>306</td>\n",
       "      <td>22/12/1998</td>\n",
       "      <td>1.0</td>\n",
       "      <td>2011-04-20</td>\n",
       "      <td>11</td>\n",
       "      <td>221887</td>\n",
       "      <td>0</td>\n",
       "      <td>...</td>\n",
       "      <td>6</td>\n",
       "      <td>1</td>\n",
       "      <td>417</td>\n",
       "      <td>0</td>\n",
       "      <td>0</td>\n",
       "      <td>0</td>\n",
       "      <td>14270</td>\n",
       "      <td>14687</td>\n",
       "      <td>4</td>\n",
       "      <td>ELEC</td>\n",
       "    </tr>\n",
       "    <tr>\n",
       "      <td>245</td>\n",
       "      <td>63</td>\n",
       "      <td>train_Client_100216</td>\n",
       "      <td>11</td>\n",
       "      <td>311</td>\n",
       "      <td>24/11/1992</td>\n",
       "      <td>1.0</td>\n",
       "      <td>2008-07-03</td>\n",
       "      <td>11</td>\n",
       "      <td>1170937</td>\n",
       "      <td>0</td>\n",
       "      <td>...</td>\n",
       "      <td>6</td>\n",
       "      <td>1</td>\n",
       "      <td>118</td>\n",
       "      <td>0</td>\n",
       "      <td>0</td>\n",
       "      <td>0</td>\n",
       "      <td>915</td>\n",
       "      <td>1033</td>\n",
       "      <td>4</td>\n",
       "      <td>ELEC</td>\n",
       "    </tr>\n",
       "    <tr>\n",
       "      <td>249</td>\n",
       "      <td>69</td>\n",
       "      <td>train_Client_10022</td>\n",
       "      <td>11</td>\n",
       "      <td>107</td>\n",
       "      <td>30/11/1998</td>\n",
       "      <td>1.0</td>\n",
       "      <td>2015-11-06</td>\n",
       "      <td>11</td>\n",
       "      <td>296693</td>\n",
       "      <td>0</td>\n",
       "      <td>...</td>\n",
       "      <td>9</td>\n",
       "      <td>1</td>\n",
       "      <td>391</td>\n",
       "      <td>0</td>\n",
       "      <td>0</td>\n",
       "      <td>0</td>\n",
       "      <td>22896</td>\n",
       "      <td>23287</td>\n",
       "      <td>4</td>\n",
       "      <td>ELEC</td>\n",
       "    </tr>\n",
       "    <tr>\n",
       "      <td>266</td>\n",
       "      <td>62</td>\n",
       "      <td>train_Client_100235</td>\n",
       "      <td>11</td>\n",
       "      <td>302</td>\n",
       "      <td>17/05/2011</td>\n",
       "      <td>1.0</td>\n",
       "      <td>2012-06-11</td>\n",
       "      <td>11</td>\n",
       "      <td>265162</td>\n",
       "      <td>0</td>\n",
       "      <td>...</td>\n",
       "      <td>9</td>\n",
       "      <td>1</td>\n",
       "      <td>173</td>\n",
       "      <td>0</td>\n",
       "      <td>0</td>\n",
       "      <td>0</td>\n",
       "      <td>110</td>\n",
       "      <td>283</td>\n",
       "      <td>4</td>\n",
       "      <td>ELEC</td>\n",
       "    </tr>\n",
       "  </tbody>\n",
       "</table>\n",
       "<p>10 rows × 21 columns</p>\n",
       "</div>"
      ],
      "text/plain": [
       "     disrict            client_id  client_catg  region creation_date  target  \\\n",
       "41        63  train_Client_100032           11     308    07/11/2012     1.0   \n",
       "46        62  train_Client_100037           11     307    16/09/2009     1.0   \n",
       "97        69  train_Client_100083           11     107    26/10/1982     1.0   \n",
       "106       60  train_Client_100091           11     101    22/02/2011     1.0   \n",
       "126       63  train_Client_100109           11     312    27/12/1990     1.0   \n",
       "152       69  train_Client_100132           11     106    31/12/1990     1.0   \n",
       "201       63  train_Client_100177           11     306    22/12/1998     1.0   \n",
       "245       63  train_Client_100216           11     311    24/11/1992     1.0   \n",
       "249       69   train_Client_10022           11     107    30/11/1998     1.0   \n",
       "266       62  train_Client_100235           11     302    17/05/2011     1.0   \n",
       "\n",
       "    invoice_date  tarif_type  counter_number  counter_statue  ...  \\\n",
       "41    2017-02-24          11          393848               0  ...   \n",
       "46    2012-09-19          11          125055               0  ...   \n",
       "97    2008-07-17          11          236489               0  ...   \n",
       "106   2014-06-24          40          425183               0  ...   \n",
       "126   2008-07-29          11           57323               0  ...   \n",
       "152   2005-12-20          11           40582               0  ...   \n",
       "201   2011-04-20          11          221887               0  ...   \n",
       "245   2008-07-03          11         1170937               0  ...   \n",
       "249   2015-11-06          11          296693               0  ...   \n",
       "266   2012-06-11          11          265162               0  ...   \n",
       "\n",
       "     reading_remarque  counter_coefficient  consommation_level_1  \\\n",
       "41                  9                    1                   781   \n",
       "46                  8                    1                  2144   \n",
       "97                  6                    1                   400   \n",
       "106                 6                    1                     0   \n",
       "126                 6                    1                   124   \n",
       "152                 6                    1                  1200   \n",
       "201                 6                    1                   417   \n",
       "245                 6                    1                   118   \n",
       "249                 9                    1                   391   \n",
       "266                 9                    1                   173   \n",
       "\n",
       "     consommation_level_2  consommation_level_3  consommation_level_4  \\\n",
       "41                      0                     0                     0   \n",
       "46                      0                     0                     0   \n",
       "97                      0                     0                     0   \n",
       "106                     0                     0                     0   \n",
       "126                     0                     0                     0   \n",
       "152                   891                     0                     0   \n",
       "201                     0                     0                     0   \n",
       "245                     0                     0                     0   \n",
       "249                     0                     0                     0   \n",
       "266                     0                     0                     0   \n",
       "\n",
       "     old_index  new_index  months_number  counter_type  \n",
       "41        3844       4625              8          ELEC  \n",
       "46        7527       9671              8          ELEC  \n",
       "97       36706      37106              4          ELEC  \n",
       "106          0          0              4           GAZ  \n",
       "126       2253       2377              4          ELEC  \n",
       "152      17523      19614              4          ELEC  \n",
       "201      14270      14687              4          ELEC  \n",
       "245        915       1033              4          ELEC  \n",
       "249      22896      23287              4          ELEC  \n",
       "266        110        283              4          ELEC  \n",
       "\n",
       "[10 rows x 21 columns]"
      ]
     },
     "execution_count": 46,
     "metadata": {},
     "output_type": "execute_result"
    }
   ],
   "source": [
    "let.head(10)"
   ]
  },
  {
   "cell_type": "code",
   "execution_count": 47,
   "metadata": {},
   "outputs": [
    {
     "data": {
      "text/plain": [
       "8363391     1\n",
       "8394924     1\n",
       "19762       1\n",
       "57121       1\n",
       "3106        1\n",
       "           ..\n",
       "30162       1\n",
       "49949018    1\n",
       "8322016     1\n",
       "1255769     1\n",
       "8393743     1\n",
       "Name: counter_number, Length: 84, dtype: int64"
      ]
     },
     "execution_count": 47,
     "metadata": {},
     "output_type": "execute_result"
    }
   ],
   "source": [
    "hd.counter_number.value_counts()"
   ]
  },
  {
   "cell_type": "code",
   "execution_count": 48,
   "metadata": {},
   "outputs": [
    {
     "data": {
      "text/plain": [
       "1.0    5945\n",
       "Name: target, dtype: int64"
      ]
     },
     "execution_count": 48,
     "metadata": {},
     "output_type": "execute_result"
    }
   ],
   "source": [
    "train[(train.consommation_level_2==0)&(train.consommation_level_3==0)&(train.consommation_level_4==0)&(train.target==1)].target.value_counts()"
   ]
  },
  {
   "cell_type": "code",
   "execution_count": 49,
   "metadata": {},
   "outputs": [
    {
     "data": {
      "text/html": [
       "<div>\n",
       "<style scoped>\n",
       "    .dataframe tbody tr th:only-of-type {\n",
       "        vertical-align: middle;\n",
       "    }\n",
       "\n",
       "    .dataframe tbody tr th {\n",
       "        vertical-align: top;\n",
       "    }\n",
       "\n",
       "    .dataframe thead th {\n",
       "        text-align: right;\n",
       "    }\n",
       "</style>\n",
       "<table border=\"1\" class=\"dataframe\">\n",
       "  <thead>\n",
       "    <tr style=\"text-align: right;\">\n",
       "      <th></th>\n",
       "      <th>disrict</th>\n",
       "      <th>client_id</th>\n",
       "      <th>client_catg</th>\n",
       "      <th>region</th>\n",
       "      <th>creation_date</th>\n",
       "      <th>target</th>\n",
       "      <th>invoice_date</th>\n",
       "      <th>tarif_type</th>\n",
       "      <th>counter_number</th>\n",
       "      <th>counter_statue</th>\n",
       "      <th>...</th>\n",
       "      <th>reading_remarque</th>\n",
       "      <th>counter_coefficient</th>\n",
       "      <th>consommation_level_1</th>\n",
       "      <th>consommation_level_2</th>\n",
       "      <th>consommation_level_3</th>\n",
       "      <th>consommation_level_4</th>\n",
       "      <th>old_index</th>\n",
       "      <th>new_index</th>\n",
       "      <th>months_number</th>\n",
       "      <th>counter_type</th>\n",
       "    </tr>\n",
       "  </thead>\n",
       "  <tbody>\n",
       "    <tr>\n",
       "      <td>0</td>\n",
       "      <td>60</td>\n",
       "      <td>train_Client_0</td>\n",
       "      <td>11</td>\n",
       "      <td>101</td>\n",
       "      <td>31/12/1994</td>\n",
       "      <td>0.0</td>\n",
       "      <td>2014-03-24</td>\n",
       "      <td>11</td>\n",
       "      <td>1335667</td>\n",
       "      <td>0</td>\n",
       "      <td>...</td>\n",
       "      <td>8</td>\n",
       "      <td>1</td>\n",
       "      <td>82</td>\n",
       "      <td>0</td>\n",
       "      <td>0</td>\n",
       "      <td>0</td>\n",
       "      <td>14302</td>\n",
       "      <td>14384</td>\n",
       "      <td>4</td>\n",
       "      <td>ELEC</td>\n",
       "    </tr>\n",
       "    <tr>\n",
       "      <td>1</td>\n",
       "      <td>69</td>\n",
       "      <td>train_Client_1</td>\n",
       "      <td>11</td>\n",
       "      <td>107</td>\n",
       "      <td>29/05/2002</td>\n",
       "      <td>0.0</td>\n",
       "      <td>2010-09-02</td>\n",
       "      <td>11</td>\n",
       "      <td>678902</td>\n",
       "      <td>0</td>\n",
       "      <td>...</td>\n",
       "      <td>8</td>\n",
       "      <td>1</td>\n",
       "      <td>388</td>\n",
       "      <td>0</td>\n",
       "      <td>0</td>\n",
       "      <td>0</td>\n",
       "      <td>11429</td>\n",
       "      <td>11817</td>\n",
       "      <td>2</td>\n",
       "      <td>ELEC</td>\n",
       "    </tr>\n",
       "    <tr>\n",
       "      <td>2</td>\n",
       "      <td>62</td>\n",
       "      <td>train_Client_10</td>\n",
       "      <td>11</td>\n",
       "      <td>301</td>\n",
       "      <td>13/03/1986</td>\n",
       "      <td>0.0</td>\n",
       "      <td>2010-02-15</td>\n",
       "      <td>11</td>\n",
       "      <td>572765</td>\n",
       "      <td>0</td>\n",
       "      <td>...</td>\n",
       "      <td>8</td>\n",
       "      <td>1</td>\n",
       "      <td>407</td>\n",
       "      <td>0</td>\n",
       "      <td>0</td>\n",
       "      <td>0</td>\n",
       "      <td>31955</td>\n",
       "      <td>32362</td>\n",
       "      <td>4</td>\n",
       "      <td>ELEC</td>\n",
       "    </tr>\n",
       "    <tr>\n",
       "      <td>3</td>\n",
       "      <td>69</td>\n",
       "      <td>train_Client_100</td>\n",
       "      <td>11</td>\n",
       "      <td>105</td>\n",
       "      <td>11/07/1996</td>\n",
       "      <td>0.0</td>\n",
       "      <td>2009-10-22</td>\n",
       "      <td>11</td>\n",
       "      <td>2078</td>\n",
       "      <td>0</td>\n",
       "      <td>...</td>\n",
       "      <td>6</td>\n",
       "      <td>1</td>\n",
       "      <td>0</td>\n",
       "      <td>0</td>\n",
       "      <td>0</td>\n",
       "      <td>0</td>\n",
       "      <td>98</td>\n",
       "      <td>98</td>\n",
       "      <td>4</td>\n",
       "      <td>ELEC</td>\n",
       "    </tr>\n",
       "    <tr>\n",
       "      <td>5</td>\n",
       "      <td>69</td>\n",
       "      <td>train_Client_10000</td>\n",
       "      <td>11</td>\n",
       "      <td>103</td>\n",
       "      <td>29/09/1993</td>\n",
       "      <td>0.0</td>\n",
       "      <td>2015-12-05</td>\n",
       "      <td>40</td>\n",
       "      <td>205147</td>\n",
       "      <td>0</td>\n",
       "      <td>...</td>\n",
       "      <td>9</td>\n",
       "      <td>1</td>\n",
       "      <td>693</td>\n",
       "      <td>0</td>\n",
       "      <td>0</td>\n",
       "      <td>0</td>\n",
       "      <td>4355</td>\n",
       "      <td>5048</td>\n",
       "      <td>4</td>\n",
       "      <td>GAZ</td>\n",
       "    </tr>\n",
       "    <tr>\n",
       "      <td>...</td>\n",
       "      <td>...</td>\n",
       "      <td>...</td>\n",
       "      <td>...</td>\n",
       "      <td>...</td>\n",
       "      <td>...</td>\n",
       "      <td>...</td>\n",
       "      <td>...</td>\n",
       "      <td>...</td>\n",
       "      <td>...</td>\n",
       "      <td>...</td>\n",
       "      <td>...</td>\n",
       "      <td>...</td>\n",
       "      <td>...</td>\n",
       "      <td>...</td>\n",
       "      <td>...</td>\n",
       "      <td>...</td>\n",
       "      <td>...</td>\n",
       "      <td>...</td>\n",
       "      <td>...</td>\n",
       "      <td>...</td>\n",
       "      <td>...</td>\n",
       "    </tr>\n",
       "    <tr>\n",
       "      <td>135487</td>\n",
       "      <td>60</td>\n",
       "      <td>train_Client_99994</td>\n",
       "      <td>11</td>\n",
       "      <td>101</td>\n",
       "      <td>12/12/1978</td>\n",
       "      <td>0.0</td>\n",
       "      <td>2006-12-14</td>\n",
       "      <td>10</td>\n",
       "      <td>945652</td>\n",
       "      <td>0</td>\n",
       "      <td>...</td>\n",
       "      <td>6</td>\n",
       "      <td>1</td>\n",
       "      <td>0</td>\n",
       "      <td>0</td>\n",
       "      <td>0</td>\n",
       "      <td>0</td>\n",
       "      <td>8147</td>\n",
       "      <td>8147</td>\n",
       "      <td>8</td>\n",
       "      <td>ELEC</td>\n",
       "    </tr>\n",
       "    <tr>\n",
       "      <td>135488</td>\n",
       "      <td>62</td>\n",
       "      <td>train_Client_99995</td>\n",
       "      <td>11</td>\n",
       "      <td>304</td>\n",
       "      <td>26/07/2004</td>\n",
       "      <td>0.0</td>\n",
       "      <td>2005-07-10</td>\n",
       "      <td>11</td>\n",
       "      <td>897286</td>\n",
       "      <td>0</td>\n",
       "      <td>...</td>\n",
       "      <td>6</td>\n",
       "      <td>1</td>\n",
       "      <td>0</td>\n",
       "      <td>0</td>\n",
       "      <td>0</td>\n",
       "      <td>0</td>\n",
       "      <td>14</td>\n",
       "      <td>14</td>\n",
       "      <td>4</td>\n",
       "      <td>ELEC</td>\n",
       "    </tr>\n",
       "    <tr>\n",
       "      <td>135489</td>\n",
       "      <td>63</td>\n",
       "      <td>train_Client_99996</td>\n",
       "      <td>11</td>\n",
       "      <td>311</td>\n",
       "      <td>25/10/2012</td>\n",
       "      <td>0.0</td>\n",
       "      <td>2015-10-20</td>\n",
       "      <td>11</td>\n",
       "      <td>398783</td>\n",
       "      <td>0</td>\n",
       "      <td>...</td>\n",
       "      <td>9</td>\n",
       "      <td>1</td>\n",
       "      <td>605</td>\n",
       "      <td>0</td>\n",
       "      <td>0</td>\n",
       "      <td>0</td>\n",
       "      <td>895</td>\n",
       "      <td>1500</td>\n",
       "      <td>4</td>\n",
       "      <td>ELEC</td>\n",
       "    </tr>\n",
       "    <tr>\n",
       "      <td>135490</td>\n",
       "      <td>63</td>\n",
       "      <td>train_Client_99997</td>\n",
       "      <td>11</td>\n",
       "      <td>311</td>\n",
       "      <td>22/11/2011</td>\n",
       "      <td>0.0</td>\n",
       "      <td>2015-08-06</td>\n",
       "      <td>11</td>\n",
       "      <td>262195</td>\n",
       "      <td>0</td>\n",
       "      <td>...</td>\n",
       "      <td>9</td>\n",
       "      <td>1</td>\n",
       "      <td>280</td>\n",
       "      <td>0</td>\n",
       "      <td>0</td>\n",
       "      <td>0</td>\n",
       "      <td>3573</td>\n",
       "      <td>3853</td>\n",
       "      <td>4</td>\n",
       "      <td>ELEC</td>\n",
       "    </tr>\n",
       "    <tr>\n",
       "      <td>135492</td>\n",
       "      <td>60</td>\n",
       "      <td>train_Client_99999</td>\n",
       "      <td>11</td>\n",
       "      <td>101</td>\n",
       "      <td>18/02/1986</td>\n",
       "      <td>0.0</td>\n",
       "      <td>1996-09-25</td>\n",
       "      <td>11</td>\n",
       "      <td>560948</td>\n",
       "      <td>0</td>\n",
       "      <td>...</td>\n",
       "      <td>6</td>\n",
       "      <td>1</td>\n",
       "      <td>259</td>\n",
       "      <td>0</td>\n",
       "      <td>0</td>\n",
       "      <td>0</td>\n",
       "      <td>13884</td>\n",
       "      <td>14143</td>\n",
       "      <td>4</td>\n",
       "      <td>ELEC</td>\n",
       "    </tr>\n",
       "  </tbody>\n",
       "</table>\n",
       "<p>114438 rows × 21 columns</p>\n",
       "</div>"
      ],
      "text/plain": [
       "        disrict           client_id  client_catg  region creation_date  \\\n",
       "0            60      train_Client_0           11     101    31/12/1994   \n",
       "1            69      train_Client_1           11     107    29/05/2002   \n",
       "2            62     train_Client_10           11     301    13/03/1986   \n",
       "3            69    train_Client_100           11     105    11/07/1996   \n",
       "5            69  train_Client_10000           11     103    29/09/1993   \n",
       "...         ...                 ...          ...     ...           ...   \n",
       "135487       60  train_Client_99994           11     101    12/12/1978   \n",
       "135488       62  train_Client_99995           11     304    26/07/2004   \n",
       "135489       63  train_Client_99996           11     311    25/10/2012   \n",
       "135490       63  train_Client_99997           11     311    22/11/2011   \n",
       "135492       60  train_Client_99999           11     101    18/02/1986   \n",
       "\n",
       "        target invoice_date  tarif_type  counter_number  counter_statue  ...  \\\n",
       "0          0.0   2014-03-24          11         1335667               0  ...   \n",
       "1          0.0   2010-09-02          11          678902               0  ...   \n",
       "2          0.0   2010-02-15          11          572765               0  ...   \n",
       "3          0.0   2009-10-22          11            2078               0  ...   \n",
       "5          0.0   2015-12-05          40          205147               0  ...   \n",
       "...        ...          ...         ...             ...             ...  ...   \n",
       "135487     0.0   2006-12-14          10          945652               0  ...   \n",
       "135488     0.0   2005-07-10          11          897286               0  ...   \n",
       "135489     0.0   2015-10-20          11          398783               0  ...   \n",
       "135490     0.0   2015-08-06          11          262195               0  ...   \n",
       "135492     0.0   1996-09-25          11          560948               0  ...   \n",
       "\n",
       "        reading_remarque  counter_coefficient  consommation_level_1  \\\n",
       "0                      8                    1                    82   \n",
       "1                      8                    1                   388   \n",
       "2                      8                    1                   407   \n",
       "3                      6                    1                     0   \n",
       "5                      9                    1                   693   \n",
       "...                  ...                  ...                   ...   \n",
       "135487                 6                    1                     0   \n",
       "135488                 6                    1                     0   \n",
       "135489                 9                    1                   605   \n",
       "135490                 9                    1                   280   \n",
       "135492                 6                    1                   259   \n",
       "\n",
       "        consommation_level_2  consommation_level_3  consommation_level_4  \\\n",
       "0                          0                     0                     0   \n",
       "1                          0                     0                     0   \n",
       "2                          0                     0                     0   \n",
       "3                          0                     0                     0   \n",
       "5                          0                     0                     0   \n",
       "...                      ...                   ...                   ...   \n",
       "135487                     0                     0                     0   \n",
       "135488                     0                     0                     0   \n",
       "135489                     0                     0                     0   \n",
       "135490                     0                     0                     0   \n",
       "135492                     0                     0                     0   \n",
       "\n",
       "        old_index  new_index  months_number  counter_type  \n",
       "0           14302      14384              4          ELEC  \n",
       "1           11429      11817              2          ELEC  \n",
       "2           31955      32362              4          ELEC  \n",
       "3              98         98              4          ELEC  \n",
       "5            4355       5048              4           GAZ  \n",
       "...           ...        ...            ...           ...  \n",
       "135487       8147       8147              8          ELEC  \n",
       "135488         14         14              4          ELEC  \n",
       "135489        895       1500              4          ELEC  \n",
       "135490       3573       3853              4          ELEC  \n",
       "135492      13884      14143              4          ELEC  \n",
       "\n",
       "[114438 rows x 21 columns]"
      ]
     },
     "execution_count": 49,
     "metadata": {},
     "output_type": "execute_result"
    }
   ],
   "source": [
    "train[(train.consommation_level_2==0)&(train.consommation_level_3==0)&(train.consommation_level_4==0)]"
   ]
  },
  {
   "cell_type": "code",
   "execution_count": 50,
   "metadata": {},
   "outputs": [
    {
     "name": "stdout",
     "output_type": "stream",
     "text": [
      "let see: 0.84\n"
     ]
    }
   ],
   "source": [
    "print('let see: {:.2f}'.format(114438/135493))"
   ]
  },
  {
   "cell_type": "markdown",
   "metadata": {},
   "source": [
    "a very high number of customers having a consommation_level_2,3,4 of 0 are said to be fraudulent"
   ]
  },
  {
   "cell_type": "code",
   "execution_count": 51,
   "metadata": {},
   "outputs": [
    {
     "data": {
      "text/html": [
       "<div>\n",
       "<style scoped>\n",
       "    .dataframe tbody tr th:only-of-type {\n",
       "        vertical-align: middle;\n",
       "    }\n",
       "\n",
       "    .dataframe tbody tr th {\n",
       "        vertical-align: top;\n",
       "    }\n",
       "\n",
       "    .dataframe thead th {\n",
       "        text-align: right;\n",
       "    }\n",
       "</style>\n",
       "<table border=\"1\" class=\"dataframe\">\n",
       "  <thead>\n",
       "    <tr style=\"text-align: right;\">\n",
       "      <th></th>\n",
       "      <th>disrict</th>\n",
       "      <th>client_id</th>\n",
       "      <th>client_catg</th>\n",
       "      <th>region</th>\n",
       "      <th>creation_date</th>\n",
       "      <th>invoice_date</th>\n",
       "      <th>tarif_type</th>\n",
       "      <th>counter_number</th>\n",
       "      <th>counter_statue</th>\n",
       "      <th>counter_code</th>\n",
       "      <th>reading_remarque</th>\n",
       "      <th>counter_coefficient</th>\n",
       "      <th>consommation_level_1</th>\n",
       "      <th>consommation_level_2</th>\n",
       "      <th>consommation_level_3</th>\n",
       "      <th>consommation_level_4</th>\n",
       "      <th>old_index</th>\n",
       "      <th>new_index</th>\n",
       "      <th>months_number</th>\n",
       "      <th>counter_type</th>\n",
       "    </tr>\n",
       "  </thead>\n",
       "  <tbody>\n",
       "    <tr>\n",
       "      <td>0</td>\n",
       "      <td>62</td>\n",
       "      <td>test_Client_0</td>\n",
       "      <td>11</td>\n",
       "      <td>307</td>\n",
       "      <td>28/05/2002</td>\n",
       "      <td>2018-03-16</td>\n",
       "      <td>11</td>\n",
       "      <td>651208</td>\n",
       "      <td>0</td>\n",
       "      <td>203</td>\n",
       "      <td>8</td>\n",
       "      <td>1</td>\n",
       "      <td>755</td>\n",
       "      <td>0</td>\n",
       "      <td>0</td>\n",
       "      <td>0</td>\n",
       "      <td>19145</td>\n",
       "      <td>19900</td>\n",
       "      <td>8</td>\n",
       "      <td>ELEC</td>\n",
       "    </tr>\n",
       "    <tr>\n",
       "      <td>3</td>\n",
       "      <td>60</td>\n",
       "      <td>test_Client_100</td>\n",
       "      <td>11</td>\n",
       "      <td>101</td>\n",
       "      <td>08/10/1992</td>\n",
       "      <td>2011-06-24</td>\n",
       "      <td>11</td>\n",
       "      <td>1064358</td>\n",
       "      <td>0</td>\n",
       "      <td>203</td>\n",
       "      <td>6</td>\n",
       "      <td>1</td>\n",
       "      <td>562</td>\n",
       "      <td>0</td>\n",
       "      <td>0</td>\n",
       "      <td>0</td>\n",
       "      <td>30748</td>\n",
       "      <td>31310</td>\n",
       "      <td>4</td>\n",
       "      <td>ELEC</td>\n",
       "    </tr>\n",
       "    <tr>\n",
       "      <td>4</td>\n",
       "      <td>62</td>\n",
       "      <td>test_Client_1000</td>\n",
       "      <td>11</td>\n",
       "      <td>301</td>\n",
       "      <td>21/07/1977</td>\n",
       "      <td>2007-10-18</td>\n",
       "      <td>11</td>\n",
       "      <td>8524250</td>\n",
       "      <td>0</td>\n",
       "      <td>203</td>\n",
       "      <td>9</td>\n",
       "      <td>1</td>\n",
       "      <td>860</td>\n",
       "      <td>0</td>\n",
       "      <td>0</td>\n",
       "      <td>0</td>\n",
       "      <td>39827</td>\n",
       "      <td>40687</td>\n",
       "      <td>4</td>\n",
       "      <td>ELEC</td>\n",
       "    </tr>\n",
       "    <tr>\n",
       "      <td>6</td>\n",
       "      <td>62</td>\n",
       "      <td>test_Client_10001</td>\n",
       "      <td>11</td>\n",
       "      <td>303</td>\n",
       "      <td>13/09/2005</td>\n",
       "      <td>2009-09-06</td>\n",
       "      <td>40</td>\n",
       "      <td>6772095</td>\n",
       "      <td>0</td>\n",
       "      <td>5</td>\n",
       "      <td>6</td>\n",
       "      <td>1</td>\n",
       "      <td>0</td>\n",
       "      <td>0</td>\n",
       "      <td>0</td>\n",
       "      <td>0</td>\n",
       "      <td>19</td>\n",
       "      <td>19</td>\n",
       "      <td>4</td>\n",
       "      <td>GAZ</td>\n",
       "    </tr>\n",
       "    <tr>\n",
       "      <td>7</td>\n",
       "      <td>69</td>\n",
       "      <td>test_Client_10002</td>\n",
       "      <td>11</td>\n",
       "      <td>104</td>\n",
       "      <td>10/02/2011</td>\n",
       "      <td>2016-02-12</td>\n",
       "      <td>45</td>\n",
       "      <td>511069</td>\n",
       "      <td>0</td>\n",
       "      <td>25</td>\n",
       "      <td>9</td>\n",
       "      <td>1</td>\n",
       "      <td>228</td>\n",
       "      <td>0</td>\n",
       "      <td>0</td>\n",
       "      <td>0</td>\n",
       "      <td>41916</td>\n",
       "      <td>42144</td>\n",
       "      <td>1</td>\n",
       "      <td>GAZ</td>\n",
       "    </tr>\n",
       "    <tr>\n",
       "      <td>...</td>\n",
       "      <td>...</td>\n",
       "      <td>...</td>\n",
       "      <td>...</td>\n",
       "      <td>...</td>\n",
       "      <td>...</td>\n",
       "      <td>...</td>\n",
       "      <td>...</td>\n",
       "      <td>...</td>\n",
       "      <td>...</td>\n",
       "      <td>...</td>\n",
       "      <td>...</td>\n",
       "      <td>...</td>\n",
       "      <td>...</td>\n",
       "      <td>...</td>\n",
       "      <td>...</td>\n",
       "      <td>...</td>\n",
       "      <td>...</td>\n",
       "      <td>...</td>\n",
       "      <td>...</td>\n",
       "      <td>...</td>\n",
       "    </tr>\n",
       "    <tr>\n",
       "      <td>58062</td>\n",
       "      <td>60</td>\n",
       "      <td>test_Client_9993</td>\n",
       "      <td>11</td>\n",
       "      <td>101</td>\n",
       "      <td>10/11/1987</td>\n",
       "      <td>2010-05-20</td>\n",
       "      <td>11</td>\n",
       "      <td>691422</td>\n",
       "      <td>0</td>\n",
       "      <td>203</td>\n",
       "      <td>6</td>\n",
       "      <td>1</td>\n",
       "      <td>639</td>\n",
       "      <td>0</td>\n",
       "      <td>0</td>\n",
       "      <td>0</td>\n",
       "      <td>24458</td>\n",
       "      <td>25097</td>\n",
       "      <td>4</td>\n",
       "      <td>ELEC</td>\n",
       "    </tr>\n",
       "    <tr>\n",
       "      <td>58063</td>\n",
       "      <td>69</td>\n",
       "      <td>test_Client_9994</td>\n",
       "      <td>11</td>\n",
       "      <td>104</td>\n",
       "      <td>07/04/1987</td>\n",
       "      <td>2011-08-18</td>\n",
       "      <td>40</td>\n",
       "      <td>164143</td>\n",
       "      <td>0</td>\n",
       "      <td>5</td>\n",
       "      <td>8</td>\n",
       "      <td>1</td>\n",
       "      <td>71</td>\n",
       "      <td>0</td>\n",
       "      <td>0</td>\n",
       "      <td>0</td>\n",
       "      <td>768</td>\n",
       "      <td>839</td>\n",
       "      <td>4</td>\n",
       "      <td>GAZ</td>\n",
       "    </tr>\n",
       "    <tr>\n",
       "      <td>58064</td>\n",
       "      <td>63</td>\n",
       "      <td>test_Client_9995</td>\n",
       "      <td>11</td>\n",
       "      <td>399</td>\n",
       "      <td>17/03/2010</td>\n",
       "      <td>2010-08-07</td>\n",
       "      <td>11</td>\n",
       "      <td>1251009</td>\n",
       "      <td>0</td>\n",
       "      <td>203</td>\n",
       "      <td>6</td>\n",
       "      <td>1</td>\n",
       "      <td>907</td>\n",
       "      <td>0</td>\n",
       "      <td>0</td>\n",
       "      <td>0</td>\n",
       "      <td>20269</td>\n",
       "      <td>21176</td>\n",
       "      <td>4</td>\n",
       "      <td>ELEC</td>\n",
       "    </tr>\n",
       "    <tr>\n",
       "      <td>58065</td>\n",
       "      <td>63</td>\n",
       "      <td>test_Client_9996</td>\n",
       "      <td>11</td>\n",
       "      <td>311</td>\n",
       "      <td>28/05/2011</td>\n",
       "      <td>2018-01-06</td>\n",
       "      <td>40</td>\n",
       "      <td>328772</td>\n",
       "      <td>0</td>\n",
       "      <td>5</td>\n",
       "      <td>6</td>\n",
       "      <td>1</td>\n",
       "      <td>120</td>\n",
       "      <td>0</td>\n",
       "      <td>0</td>\n",
       "      <td>0</td>\n",
       "      <td>1893</td>\n",
       "      <td>2013</td>\n",
       "      <td>4</td>\n",
       "      <td>GAZ</td>\n",
       "    </tr>\n",
       "    <tr>\n",
       "      <td>58068</td>\n",
       "      <td>69</td>\n",
       "      <td>test_Client_9999</td>\n",
       "      <td>11</td>\n",
       "      <td>104</td>\n",
       "      <td>14/03/1990</td>\n",
       "      <td>2015-06-29</td>\n",
       "      <td>11</td>\n",
       "      <td>869269</td>\n",
       "      <td>0</td>\n",
       "      <td>203</td>\n",
       "      <td>9</td>\n",
       "      <td>1</td>\n",
       "      <td>520</td>\n",
       "      <td>0</td>\n",
       "      <td>0</td>\n",
       "      <td>0</td>\n",
       "      <td>27239</td>\n",
       "      <td>27759</td>\n",
       "      <td>4</td>\n",
       "      <td>ELEC</td>\n",
       "    </tr>\n",
       "  </tbody>\n",
       "</table>\n",
       "<p>49050 rows × 20 columns</p>\n",
       "</div>"
      ],
      "text/plain": [
       "       disrict          client_id  client_catg  region creation_date  \\\n",
       "0           62      test_Client_0           11     307    28/05/2002   \n",
       "3           60    test_Client_100           11     101    08/10/1992   \n",
       "4           62   test_Client_1000           11     301    21/07/1977   \n",
       "6           62  test_Client_10001           11     303    13/09/2005   \n",
       "7           69  test_Client_10002           11     104    10/02/2011   \n",
       "...        ...                ...          ...     ...           ...   \n",
       "58062       60   test_Client_9993           11     101    10/11/1987   \n",
       "58063       69   test_Client_9994           11     104    07/04/1987   \n",
       "58064       63   test_Client_9995           11     399    17/03/2010   \n",
       "58065       63   test_Client_9996           11     311    28/05/2011   \n",
       "58068       69   test_Client_9999           11     104    14/03/1990   \n",
       "\n",
       "      invoice_date  tarif_type  counter_number  counter_statue  counter_code  \\\n",
       "0       2018-03-16          11          651208               0           203   \n",
       "3       2011-06-24          11         1064358               0           203   \n",
       "4       2007-10-18          11         8524250               0           203   \n",
       "6       2009-09-06          40         6772095               0             5   \n",
       "7       2016-02-12          45          511069               0            25   \n",
       "...            ...         ...             ...             ...           ...   \n",
       "58062   2010-05-20          11          691422               0           203   \n",
       "58063   2011-08-18          40          164143               0             5   \n",
       "58064   2010-08-07          11         1251009               0           203   \n",
       "58065   2018-01-06          40          328772               0             5   \n",
       "58068   2015-06-29          11          869269               0           203   \n",
       "\n",
       "       reading_remarque  counter_coefficient  consommation_level_1  \\\n",
       "0                     8                    1                   755   \n",
       "3                     6                    1                   562   \n",
       "4                     9                    1                   860   \n",
       "6                     6                    1                     0   \n",
       "7                     9                    1                   228   \n",
       "...                 ...                  ...                   ...   \n",
       "58062                 6                    1                   639   \n",
       "58063                 8                    1                    71   \n",
       "58064                 6                    1                   907   \n",
       "58065                 6                    1                   120   \n",
       "58068                 9                    1                   520   \n",
       "\n",
       "       consommation_level_2  consommation_level_3  consommation_level_4  \\\n",
       "0                         0                     0                     0   \n",
       "3                         0                     0                     0   \n",
       "4                         0                     0                     0   \n",
       "6                         0                     0                     0   \n",
       "7                         0                     0                     0   \n",
       "...                     ...                   ...                   ...   \n",
       "58062                     0                     0                     0   \n",
       "58063                     0                     0                     0   \n",
       "58064                     0                     0                     0   \n",
       "58065                     0                     0                     0   \n",
       "58068                     0                     0                     0   \n",
       "\n",
       "       old_index  new_index  months_number counter_type  \n",
       "0          19145      19900              8         ELEC  \n",
       "3          30748      31310              4         ELEC  \n",
       "4          39827      40687              4         ELEC  \n",
       "6             19         19              4          GAZ  \n",
       "7          41916      42144              1          GAZ  \n",
       "...          ...        ...            ...          ...  \n",
       "58062      24458      25097              4         ELEC  \n",
       "58063        768        839              4          GAZ  \n",
       "58064      20269      21176              4         ELEC  \n",
       "58065       1893       2013              4          GAZ  \n",
       "58068      27239      27759              4         ELEC  \n",
       "\n",
       "[49050 rows x 20 columns]"
      ]
     },
     "execution_count": 51,
     "metadata": {},
     "output_type": "execute_result"
    }
   ],
   "source": [
    "test[(test.consommation_level_2==0)&(test.consommation_level_3==0)&(test.consommation_level_4==0)]"
   ]
  },
  {
   "cell_type": "code",
   "execution_count": 52,
   "metadata": {},
   "outputs": [
    {
     "name": "stdout",
     "output_type": "stream",
     "text": [
      "let see: 0.84\n"
     ]
    }
   ],
   "source": [
    "print('let see: {:.2f}'.format(49050/58069))"
   ]
  },
  {
   "cell_type": "markdown",
   "metadata": {},
   "source": [
    "1. even here we have thesame ratio splitting between they are split equaly thats great...meaning if we get insides from test set the will applied with similar ratio with the trainset\n",
    "\n",
    "2. i investigated something interesting here..about the counter type and the counter_code: in the test set the counter_codes with 2digits values are all of gaz type and the one with 3digits are all of electric type\n",
    "3. tarif_type of values 40 and 45 are all from the counter_type GAZ\n",
    "\n",
    "__conlusion_from_above__: if we decide to groupe the counter_code as function of the counter_type we shall obtain thesame trend\n",
    "that is if we sum the counter_code of values 40 and 45 we will have total numberof counter of  gaz type and the rest as electric_type..this goes same for the tarif type..so we need to drop this two columns (counter_code and tarrif_type?) lets try that "
   ]
  },
  {
   "cell_type": "code",
   "execution_count": 53,
   "metadata": {
    "scrolled": true
   },
   "outputs": [
    {
     "data": {
      "text/plain": [
       "62    40353\n",
       "69    34231\n",
       "60    31922\n",
       "63    28987\n",
       "Name: disrict, dtype: int64"
      ]
     },
     "execution_count": 53,
     "metadata": {},
     "output_type": "execute_result"
    }
   ],
   "source": [
    "train.disrict.value_counts()"
   ]
  },
  {
   "cell_type": "code",
   "execution_count": 87,
   "metadata": {},
   "outputs": [
    {
     "data": {
      "text/plain": [
       "301"
      ]
     },
     "execution_count": 87,
     "metadata": {},
     "output_type": "execute_result"
    }
   ],
   "source": [
    "train[(train.disrict==62)].region.min()"
   ]
  },
  {
   "cell_type": "code",
   "execution_count": 88,
   "metadata": {},
   "outputs": [
    {
     "data": {
      "text/plain": [
       "399"
      ]
     },
     "execution_count": 88,
     "metadata": {},
     "output_type": "execute_result"
    }
   ],
   "source": [
    "train[(train.disrict==62)].region.max()"
   ]
  },
  {
   "cell_type": "code",
   "execution_count": 89,
   "metadata": {},
   "outputs": [
    {
     "data": {
      "text/plain": [
       "101"
      ]
     },
     "execution_count": 89,
     "metadata": {},
     "output_type": "execute_result"
    }
   ],
   "source": [
    "train[(train.disrict==63)].region.min()"
   ]
  },
  {
   "cell_type": "code",
   "execution_count": 90,
   "metadata": {},
   "outputs": [
    {
     "data": {
      "text/plain": [
       "399"
      ]
     },
     "execution_count": 90,
     "metadata": {},
     "output_type": "execute_result"
    }
   ],
   "source": [
    "train[(train.disrict==63)].region.max()"
   ]
  },
  {
   "cell_type": "code",
   "execution_count": 91,
   "metadata": {},
   "outputs": [
    {
     "data": {
      "text/plain": [
       "101"
      ]
     },
     "execution_count": 91,
     "metadata": {},
     "output_type": "execute_result"
    }
   ],
   "source": [
    "train[(train.disrict==60)].region.min()"
   ]
  },
  {
   "cell_type": "code",
   "execution_count": 92,
   "metadata": {},
   "outputs": [
    {
     "data": {
      "text/plain": [
       "199"
      ]
     },
     "execution_count": 92,
     "metadata": {},
     "output_type": "execute_result"
    }
   ],
   "source": [
    "train[(train.disrict==60)].region.max()"
   ]
  },
  {
   "cell_type": "code",
   "execution_count": 93,
   "metadata": {},
   "outputs": [
    {
     "data": {
      "text/plain": [
       "103"
      ]
     },
     "execution_count": 93,
     "metadata": {},
     "output_type": "execute_result"
    }
   ],
   "source": [
    "train[(train.disrict==69)].region.min()"
   ]
  },
  {
   "cell_type": "code",
   "execution_count": 94,
   "metadata": {},
   "outputs": [
    {
     "data": {
      "text/plain": [
       "206"
      ]
     },
     "execution_count": 94,
     "metadata": {},
     "output_type": "execute_result"
    }
   ],
   "source": [
    "train[(train.disrict==69)].region.max()"
   ]
  },
  {
   "cell_type": "code",
   "execution_count": 96,
   "metadata": {},
   "outputs": [
    {
     "data": {
      "text/html": [
       "<div>\n",
       "<style scoped>\n",
       "    .dataframe tbody tr th:only-of-type {\n",
       "        vertical-align: middle;\n",
       "    }\n",
       "\n",
       "    .dataframe tbody tr th {\n",
       "        vertical-align: top;\n",
       "    }\n",
       "\n",
       "    .dataframe thead th {\n",
       "        text-align: right;\n",
       "    }\n",
       "</style>\n",
       "<table border=\"1\" class=\"dataframe\">\n",
       "  <thead>\n",
       "    <tr style=\"text-align: right;\">\n",
       "      <th></th>\n",
       "      <th>disrict</th>\n",
       "      <th>client_id</th>\n",
       "      <th>client_catg</th>\n",
       "      <th>region</th>\n",
       "      <th>creation_date</th>\n",
       "      <th>target</th>\n",
       "      <th>invoice_date</th>\n",
       "      <th>tarif_type</th>\n",
       "      <th>counter_number</th>\n",
       "      <th>counter_statue</th>\n",
       "      <th>...</th>\n",
       "      <th>counter_coefficient</th>\n",
       "      <th>consommation_level_1</th>\n",
       "      <th>consommation_level_2</th>\n",
       "      <th>consommation_level_3</th>\n",
       "      <th>consommation_level_4</th>\n",
       "      <th>old_index</th>\n",
       "      <th>new_index</th>\n",
       "      <th>months_number</th>\n",
       "      <th>counter_type</th>\n",
       "      <th>year_to_date</th>\n",
       "    </tr>\n",
       "  </thead>\n",
       "  <tbody>\n",
       "    <tr>\n",
       "      <td>0</td>\n",
       "      <td>60</td>\n",
       "      <td>train_Client_0</td>\n",
       "      <td>11</td>\n",
       "      <td>101</td>\n",
       "      <td>1994-12-31</td>\n",
       "      <td>0.0</td>\n",
       "      <td>2014-03-24</td>\n",
       "      <td>11</td>\n",
       "      <td>1335667</td>\n",
       "      <td>0</td>\n",
       "      <td>...</td>\n",
       "      <td>1</td>\n",
       "      <td>82</td>\n",
       "      <td>0</td>\n",
       "      <td>0</td>\n",
       "      <td>0</td>\n",
       "      <td>14302</td>\n",
       "      <td>14384</td>\n",
       "      <td>4</td>\n",
       "      <td>ELEC</td>\n",
       "      <td>7023 days</td>\n",
       "    </tr>\n",
       "    <tr>\n",
       "      <td>1</td>\n",
       "      <td>69</td>\n",
       "      <td>train_Client_1</td>\n",
       "      <td>11</td>\n",
       "      <td>107</td>\n",
       "      <td>2002-05-29</td>\n",
       "      <td>0.0</td>\n",
       "      <td>2010-09-02</td>\n",
       "      <td>11</td>\n",
       "      <td>678902</td>\n",
       "      <td>0</td>\n",
       "      <td>...</td>\n",
       "      <td>1</td>\n",
       "      <td>388</td>\n",
       "      <td>0</td>\n",
       "      <td>0</td>\n",
       "      <td>0</td>\n",
       "      <td>11429</td>\n",
       "      <td>11817</td>\n",
       "      <td>2</td>\n",
       "      <td>ELEC</td>\n",
       "      <td>3018 days</td>\n",
       "    </tr>\n",
       "    <tr>\n",
       "      <td>2</td>\n",
       "      <td>62</td>\n",
       "      <td>train_Client_10</td>\n",
       "      <td>11</td>\n",
       "      <td>301</td>\n",
       "      <td>1986-03-13</td>\n",
       "      <td>0.0</td>\n",
       "      <td>2010-02-15</td>\n",
       "      <td>11</td>\n",
       "      <td>572765</td>\n",
       "      <td>0</td>\n",
       "      <td>...</td>\n",
       "      <td>1</td>\n",
       "      <td>407</td>\n",
       "      <td>0</td>\n",
       "      <td>0</td>\n",
       "      <td>0</td>\n",
       "      <td>31955</td>\n",
       "      <td>32362</td>\n",
       "      <td>4</td>\n",
       "      <td>ELEC</td>\n",
       "      <td>8740 days</td>\n",
       "    </tr>\n",
       "    <tr>\n",
       "      <td>3</td>\n",
       "      <td>69</td>\n",
       "      <td>train_Client_100</td>\n",
       "      <td>11</td>\n",
       "      <td>105</td>\n",
       "      <td>1996-11-07</td>\n",
       "      <td>0.0</td>\n",
       "      <td>2009-10-22</td>\n",
       "      <td>11</td>\n",
       "      <td>2078</td>\n",
       "      <td>0</td>\n",
       "      <td>...</td>\n",
       "      <td>1</td>\n",
       "      <td>0</td>\n",
       "      <td>0</td>\n",
       "      <td>0</td>\n",
       "      <td>0</td>\n",
       "      <td>98</td>\n",
       "      <td>98</td>\n",
       "      <td>4</td>\n",
       "      <td>ELEC</td>\n",
       "      <td>4732 days</td>\n",
       "    </tr>\n",
       "    <tr>\n",
       "      <td>4</td>\n",
       "      <td>62</td>\n",
       "      <td>train_Client_1000</td>\n",
       "      <td>11</td>\n",
       "      <td>303</td>\n",
       "      <td>2014-10-14</td>\n",
       "      <td>0.0</td>\n",
       "      <td>2015-02-13</td>\n",
       "      <td>11</td>\n",
       "      <td>19575</td>\n",
       "      <td>0</td>\n",
       "      <td>...</td>\n",
       "      <td>1</td>\n",
       "      <td>800</td>\n",
       "      <td>159</td>\n",
       "      <td>0</td>\n",
       "      <td>0</td>\n",
       "      <td>0</td>\n",
       "      <td>959</td>\n",
       "      <td>4</td>\n",
       "      <td>ELEC</td>\n",
       "      <td>122 days</td>\n",
       "    </tr>\n",
       "    <tr>\n",
       "      <td>...</td>\n",
       "      <td>...</td>\n",
       "      <td>...</td>\n",
       "      <td>...</td>\n",
       "      <td>...</td>\n",
       "      <td>...</td>\n",
       "      <td>...</td>\n",
       "      <td>...</td>\n",
       "      <td>...</td>\n",
       "      <td>...</td>\n",
       "      <td>...</td>\n",
       "      <td>...</td>\n",
       "      <td>...</td>\n",
       "      <td>...</td>\n",
       "      <td>...</td>\n",
       "      <td>...</td>\n",
       "      <td>...</td>\n",
       "      <td>...</td>\n",
       "      <td>...</td>\n",
       "      <td>...</td>\n",
       "      <td>...</td>\n",
       "      <td>...</td>\n",
       "    </tr>\n",
       "    <tr>\n",
       "      <td>135488</td>\n",
       "      <td>62</td>\n",
       "      <td>train_Client_99995</td>\n",
       "      <td>11</td>\n",
       "      <td>304</td>\n",
       "      <td>2004-07-26</td>\n",
       "      <td>0.0</td>\n",
       "      <td>2005-07-10</td>\n",
       "      <td>11</td>\n",
       "      <td>897286</td>\n",
       "      <td>0</td>\n",
       "      <td>...</td>\n",
       "      <td>1</td>\n",
       "      <td>0</td>\n",
       "      <td>0</td>\n",
       "      <td>0</td>\n",
       "      <td>0</td>\n",
       "      <td>14</td>\n",
       "      <td>14</td>\n",
       "      <td>4</td>\n",
       "      <td>ELEC</td>\n",
       "      <td>349 days</td>\n",
       "    </tr>\n",
       "    <tr>\n",
       "      <td>135489</td>\n",
       "      <td>63</td>\n",
       "      <td>train_Client_99996</td>\n",
       "      <td>11</td>\n",
       "      <td>311</td>\n",
       "      <td>2012-10-25</td>\n",
       "      <td>0.0</td>\n",
       "      <td>2015-10-20</td>\n",
       "      <td>11</td>\n",
       "      <td>398783</td>\n",
       "      <td>0</td>\n",
       "      <td>...</td>\n",
       "      <td>1</td>\n",
       "      <td>605</td>\n",
       "      <td>0</td>\n",
       "      <td>0</td>\n",
       "      <td>0</td>\n",
       "      <td>895</td>\n",
       "      <td>1500</td>\n",
       "      <td>4</td>\n",
       "      <td>ELEC</td>\n",
       "      <td>1090 days</td>\n",
       "    </tr>\n",
       "    <tr>\n",
       "      <td>135490</td>\n",
       "      <td>63</td>\n",
       "      <td>train_Client_99997</td>\n",
       "      <td>11</td>\n",
       "      <td>311</td>\n",
       "      <td>2011-11-22</td>\n",
       "      <td>0.0</td>\n",
       "      <td>2015-08-06</td>\n",
       "      <td>11</td>\n",
       "      <td>262195</td>\n",
       "      <td>0</td>\n",
       "      <td>...</td>\n",
       "      <td>1</td>\n",
       "      <td>280</td>\n",
       "      <td>0</td>\n",
       "      <td>0</td>\n",
       "      <td>0</td>\n",
       "      <td>3573</td>\n",
       "      <td>3853</td>\n",
       "      <td>4</td>\n",
       "      <td>ELEC</td>\n",
       "      <td>1353 days</td>\n",
       "    </tr>\n",
       "    <tr>\n",
       "      <td>135491</td>\n",
       "      <td>60</td>\n",
       "      <td>train_Client_99998</td>\n",
       "      <td>11</td>\n",
       "      <td>101</td>\n",
       "      <td>1993-12-22</td>\n",
       "      <td>0.0</td>\n",
       "      <td>2005-08-19</td>\n",
       "      <td>10</td>\n",
       "      <td>1253571</td>\n",
       "      <td>0</td>\n",
       "      <td>...</td>\n",
       "      <td>1</td>\n",
       "      <td>400</td>\n",
       "      <td>135</td>\n",
       "      <td>0</td>\n",
       "      <td>0</td>\n",
       "      <td>3197</td>\n",
       "      <td>3732</td>\n",
       "      <td>8</td>\n",
       "      <td>ELEC</td>\n",
       "      <td>4258 days</td>\n",
       "    </tr>\n",
       "    <tr>\n",
       "      <td>135492</td>\n",
       "      <td>60</td>\n",
       "      <td>train_Client_99999</td>\n",
       "      <td>11</td>\n",
       "      <td>101</td>\n",
       "      <td>1986-02-18</td>\n",
       "      <td>0.0</td>\n",
       "      <td>1996-09-25</td>\n",
       "      <td>11</td>\n",
       "      <td>560948</td>\n",
       "      <td>0</td>\n",
       "      <td>...</td>\n",
       "      <td>1</td>\n",
       "      <td>259</td>\n",
       "      <td>0</td>\n",
       "      <td>0</td>\n",
       "      <td>0</td>\n",
       "      <td>13884</td>\n",
       "      <td>14143</td>\n",
       "      <td>4</td>\n",
       "      <td>ELEC</td>\n",
       "      <td>3872 days</td>\n",
       "    </tr>\n",
       "  </tbody>\n",
       "</table>\n",
       "<p>130631 rows × 22 columns</p>\n",
       "</div>"
      ],
      "text/plain": [
       "        disrict           client_id  client_catg  region creation_date  \\\n",
       "0            60      train_Client_0           11     101    1994-12-31   \n",
       "1            69      train_Client_1           11     107    2002-05-29   \n",
       "2            62     train_Client_10           11     301    1986-03-13   \n",
       "3            69    train_Client_100           11     105    1996-11-07   \n",
       "4            62   train_Client_1000           11     303    2014-10-14   \n",
       "...         ...                 ...          ...     ...           ...   \n",
       "135488       62  train_Client_99995           11     304    2004-07-26   \n",
       "135489       63  train_Client_99996           11     311    2012-10-25   \n",
       "135490       63  train_Client_99997           11     311    2011-11-22   \n",
       "135491       60  train_Client_99998           11     101    1993-12-22   \n",
       "135492       60  train_Client_99999           11     101    1986-02-18   \n",
       "\n",
       "        target invoice_date  tarif_type  counter_number  counter_statue  ...  \\\n",
       "0          0.0   2014-03-24          11         1335667               0  ...   \n",
       "1          0.0   2010-09-02          11          678902               0  ...   \n",
       "2          0.0   2010-02-15          11          572765               0  ...   \n",
       "3          0.0   2009-10-22          11            2078               0  ...   \n",
       "4          0.0   2015-02-13          11           19575               0  ...   \n",
       "...        ...          ...         ...             ...             ...  ...   \n",
       "135488     0.0   2005-07-10          11          897286               0  ...   \n",
       "135489     0.0   2015-10-20          11          398783               0  ...   \n",
       "135490     0.0   2015-08-06          11          262195               0  ...   \n",
       "135491     0.0   2005-08-19          10         1253571               0  ...   \n",
       "135492     0.0   1996-09-25          11          560948               0  ...   \n",
       "\n",
       "        counter_coefficient  consommation_level_1  consommation_level_2  \\\n",
       "0                         1                    82                     0   \n",
       "1                         1                   388                     0   \n",
       "2                         1                   407                     0   \n",
       "3                         1                     0                     0   \n",
       "4                         1                   800                   159   \n",
       "...                     ...                   ...                   ...   \n",
       "135488                    1                     0                     0   \n",
       "135489                    1                   605                     0   \n",
       "135490                    1                   280                     0   \n",
       "135491                    1                   400                   135   \n",
       "135492                    1                   259                     0   \n",
       "\n",
       "        consommation_level_3  consommation_level_4  old_index  new_index  \\\n",
       "0                          0                     0      14302      14384   \n",
       "1                          0                     0      11429      11817   \n",
       "2                          0                     0      31955      32362   \n",
       "3                          0                     0         98         98   \n",
       "4                          0                     0          0        959   \n",
       "...                      ...                   ...        ...        ...   \n",
       "135488                     0                     0         14         14   \n",
       "135489                     0                     0        895       1500   \n",
       "135490                     0                     0       3573       3853   \n",
       "135491                     0                     0       3197       3732   \n",
       "135492                     0                     0      13884      14143   \n",
       "\n",
       "        months_number  counter_type  year_to_date  \n",
       "0                   4          ELEC     7023 days  \n",
       "1                   2          ELEC     3018 days  \n",
       "2                   4          ELEC     8740 days  \n",
       "3                   4          ELEC     4732 days  \n",
       "4                   4          ELEC      122 days  \n",
       "...               ...           ...           ...  \n",
       "135488              4          ELEC      349 days  \n",
       "135489              4          ELEC     1090 days  \n",
       "135490              4          ELEC     1353 days  \n",
       "135491              8          ELEC     4258 days  \n",
       "135492              4          ELEC     3872 days  \n",
       "\n",
       "[130631 rows x 22 columns]"
      ]
     },
     "execution_count": 96,
     "metadata": {},
     "output_type": "execute_result"
    }
   ],
   "source": [
    "train[(train.counter_coefficient==1) & (train.counter_statue==0)]"
   ]
  },
  {
   "cell_type": "code",
   "execution_count": null,
   "metadata": {},
   "outputs": [],
   "source": []
  }
 ],
 "metadata": {
  "kernelspec": {
   "display_name": "Python 3",
   "language": "python",
   "name": "python3"
  },
  "language_info": {
   "codemirror_mode": {
    "name": "ipython",
    "version": 3
   },
   "file_extension": ".py",
   "mimetype": "text/x-python",
   "name": "python",
   "nbconvert_exporter": "python",
   "pygments_lexer": "ipython3",
   "version": "3.7.4"
  }
 },
 "nbformat": 4,
 "nbformat_minor": 2
}
