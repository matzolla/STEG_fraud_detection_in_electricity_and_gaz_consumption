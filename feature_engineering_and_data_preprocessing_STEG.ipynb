{
 "cells": [
  {
   "cell_type": "markdown",
   "metadata": {},
   "source": [
    "### Name: Nken Allassan\n",
    "### Date: June/24/2020\n",
    "### Hello, in this file i will try to do some feature engineering and data_preprocessing\n",
    "### i'm not that familiar to this task but i will try my best to get insights from it let's go"
   ]
  },
  {
   "cell_type": "code",
   "execution_count": 1,
   "metadata": {},
   "outputs": [],
   "source": [
    "import numpy as np\n",
    "import matplotlib.pyplot as plt\n",
    "import pandas as pd\n",
    "import seaborn as sns\n",
    "from sklearn.preprocessing import LabelEncoder\n",
    "from sklearn.preprocessing import OneHotEncoder\n",
    "from sklearn.preprocessing import MinMaxScaler"
   ]
  },
  {
   "cell_type": "markdown",
   "metadata": {},
   "source": [
    "loading my data..."
   ]
  },
  {
   "cell_type": "code",
   "execution_count": 2,
   "metadata": {},
   "outputs": [],
   "source": [
    "train=pd.read_csv('allassan_train.csv')\n",
    "test=pd.read_csv('allassan_test.csv')"
   ]
  },
  {
   "cell_type": "code",
   "execution_count": 3,
   "metadata": {},
   "outputs": [],
   "source": [
    "train.invoice_date=pd.to_datetime(train.invoice_date)\n",
    "train.creation_date=pd.to_datetime(train.creation_date)\n",
    "test.invoice_date=pd.to_datetime(train.invoice_date)\n",
    "test.creation_date=pd.to_datetime(train.creation_date)"
   ]
  },
  {
   "cell_type": "markdown",
   "metadata": {},
   "source": [
    "creating a feature year_to_date"
   ]
  },
  {
   "cell_type": "code",
   "execution_count": 4,
   "metadata": {},
   "outputs": [],
   "source": [
    "train[\"year_to_date\"]=train.invoice_date - train.creation_date\n",
    "test[\"year_to_date\"]=test.invoice_date - test.creation_date"
   ]
  },
  {
   "cell_type": "markdown",
   "metadata": {},
   "source": [
    "dropping counter_code and tarif_type since they have thesame pattern as counter type"
   ]
  },
  {
   "cell_type": "code",
   "execution_count": 5,
   "metadata": {},
   "outputs": [],
   "source": [
    "train.drop(['counter_code','tarif_type'],axis=1,inplace=True)\n",
    "test.drop(['counter_code','tarif_type'],axis=1,inplace=True)"
   ]
  },
  {
   "cell_type": "markdown",
   "metadata": {},
   "source": [
    "creating a feature known as consomation_add adding the different consomation level and comparing it with a new feature known as index_calc to see if the coencide if not we create a new feature called good and bad counters see the _eda_file_"
   ]
  },
  {
   "cell_type": "code",
   "execution_count": 6,
   "metadata": {},
   "outputs": [],
   "source": [
    "train['consomation_add']=train.consommation_level_1 + train.consommation_level_2 + train.consommation_level_3 + train.consommation_level_4\n",
    "test['consomation_add']=test.consommation_level_1 + test.consommation_level_2 + test.consommation_level_3 + test.consommation_level_4"
   ]
  },
  {
   "cell_type": "code",
   "execution_count": 7,
   "metadata": {},
   "outputs": [],
   "source": [
    "train['index_calc']=train.new_index - train.old_index\n",
    "test['index_calc']=test.new_index - test.old_index"
   ]
  },
  {
   "cell_type": "code",
   "execution_count": 8,
   "metadata": {},
   "outputs": [],
   "source": [
    "index=train[(train.consomation_add != train.index_calc)].index\n",
    "index_test=test[(test.consomation_add != test.index_calc)].index"
   ]
  },
  {
   "cell_type": "code",
   "execution_count": 9,
   "metadata": {},
   "outputs": [],
   "source": [
    "train.loc[index,'counter_error']=1\n",
    "test.loc[index_test,'counter_error']=1"
   ]
  },
  {
   "cell_type": "code",
   "execution_count": 10,
   "metadata": {},
   "outputs": [],
   "source": [
    "index=train[(train.consomation_add == train.index_calc)].index\n",
    "index_test=test[(test.consomation_add == test.index_calc)].index"
   ]
  },
  {
   "cell_type": "code",
   "execution_count": 11,
   "metadata": {},
   "outputs": [],
   "source": [
    "train.loc[index,'counter_error']=0\n",
    "test.loc[index_test,'counter_error']=0"
   ]
  },
  {
   "cell_type": "markdown",
   "metadata": {},
   "source": [
    "now we are going to create a future which will help us determine the month number as good months if months<=12 or bad months if months>12"
   ]
  },
  {
   "cell_type": "code",
   "execution_count": 12,
   "metadata": {},
   "outputs": [],
   "source": [
    "index=train[train.months_number<=12].index\n",
    "index_test=test[test.months_number<=12].index"
   ]
  },
  {
   "cell_type": "code",
   "execution_count": 13,
   "metadata": {},
   "outputs": [],
   "source": [
    "train.loc[index,'month_error']=0\n",
    "test.loc[index_test,'month_error']=0"
   ]
  },
  {
   "cell_type": "code",
   "execution_count": 14,
   "metadata": {},
   "outputs": [],
   "source": [
    "index=train[train.months_number>12].index\n",
    "index_test=test[test.months_number>12].index"
   ]
  },
  {
   "cell_type": "code",
   "execution_count": 15,
   "metadata": {},
   "outputs": [],
   "source": [
    "train.loc[index,'month_error']=1\n",
    "test.loc[index_test,'month_error']=1"
   ]
  },
  {
   "cell_type": "markdown",
   "metadata": {},
   "source": [
    "now we are going to create a feature concerning the year of invoice cause we noticed a leakage there\n",
    "1. in the competition it is said that the billing start in year 2005\n",
    "2. in the dataset we have some billing starting several yeas before..we need to classify them as good years and bad years"
   ]
  },
  {
   "cell_type": "code",
   "execution_count": 16,
   "metadata": {},
   "outputs": [],
   "source": [
    "train['invoice_date']=train['invoice_date'].astype(str)\n",
    "test['invoice_date']=test['invoice_date'].astype(str)"
   ]
  },
  {
   "cell_type": "code",
   "execution_count": 17,
   "metadata": {},
   "outputs": [],
   "source": [
    "train['invoice_date']=train['invoice_date'].apply(lambda x: x[0:4])\n",
    "test['invoice_date']=test['invoice_date'].apply(lambda x: x[0:4])"
   ]
  },
  {
   "cell_type": "code",
   "execution_count": 18,
   "metadata": {},
   "outputs": [],
   "source": [
    "train.invoice_date=train.invoice_date.astype(int)\n",
    "test.invoice_date=test.invoice_date.astype(int)"
   ]
  },
  {
   "cell_type": "code",
   "execution_count": 19,
   "metadata": {},
   "outputs": [],
   "source": [
    "index=train[train.invoice_date<2005].index\n",
    "index_test=test[test.invoice_date<2005].index"
   ]
  },
  {
   "cell_type": "code",
   "execution_count": 20,
   "metadata": {},
   "outputs": [],
   "source": [
    "train.loc[index,'year_error']=1\n",
    "test.loc[index_test,'year_error']=1"
   ]
  },
  {
   "cell_type": "code",
   "execution_count": 21,
   "metadata": {},
   "outputs": [],
   "source": [
    "index=train[train.invoice_date>=2005].index\n",
    "index_test=test[test.invoice_date>=2005].index"
   ]
  },
  {
   "cell_type": "code",
   "execution_count": 22,
   "metadata": {},
   "outputs": [],
   "source": [
    "train.loc[index,'year_error']=0\n",
    "test.loc[index_test,'year_error']=0"
   ]
  },
  {
   "cell_type": "markdown",
   "metadata": {},
   "source": [
    "now i will drop all the unecessary columns or the columns having thesame patern"
   ]
  },
  {
   "cell_type": "code",
   "execution_count": 23,
   "metadata": {},
   "outputs": [],
   "source": [
    "train.drop(['invoice_date','client_id','consommation_level_1','consommation_level_2','consommation_level_3','consommation_level_4','consomation_add','year_to_date'],axis=1,inplace=True)\n",
    "\n",
    "test.drop(['invoice_date','client_id','consommation_level_1','consommation_level_2','consommation_level_3','consommation_level_4','consomation_add','year_to_date'],axis=1,inplace=True)"
   ]
  },
  {
   "cell_type": "code",
   "execution_count": 24,
   "metadata": {},
   "outputs": [],
   "source": [
    "train.drop(['creation_date','old_index','new_index','months_number'],axis=1,inplace=True)\n",
    "test.drop(['creation_date','old_index','new_index','months_number'],axis=1,inplace=True)\n",
    "\n",
    "train.drop(['counter_number','region'],axis=1,inplace=True)\n",
    "test.drop(['counter_number','region'],axis=1,inplace=True)"
   ]
  },
  {
   "cell_type": "code",
   "execution_count": 25,
   "metadata": {},
   "outputs": [
    {
     "data": {
      "text/html": [
       "<div>\n",
       "<style scoped>\n",
       "    .dataframe tbody tr th:only-of-type {\n",
       "        vertical-align: middle;\n",
       "    }\n",
       "\n",
       "    .dataframe tbody tr th {\n",
       "        vertical-align: top;\n",
       "    }\n",
       "\n",
       "    .dataframe thead th {\n",
       "        text-align: right;\n",
       "    }\n",
       "</style>\n",
       "<table border=\"1\" class=\"dataframe\">\n",
       "  <thead>\n",
       "    <tr style=\"text-align: right;\">\n",
       "      <th></th>\n",
       "      <th>disrict</th>\n",
       "      <th>client_catg</th>\n",
       "      <th>target</th>\n",
       "      <th>counter_statue</th>\n",
       "      <th>reading_remarque</th>\n",
       "      <th>counter_coefficient</th>\n",
       "      <th>counter_type</th>\n",
       "      <th>index_calc</th>\n",
       "      <th>counter_error</th>\n",
       "      <th>month_error</th>\n",
       "      <th>year_error</th>\n",
       "    </tr>\n",
       "  </thead>\n",
       "  <tbody>\n",
       "    <tr>\n",
       "      <th>0</th>\n",
       "      <td>60</td>\n",
       "      <td>11</td>\n",
       "      <td>0.0</td>\n",
       "      <td>0</td>\n",
       "      <td>8</td>\n",
       "      <td>1</td>\n",
       "      <td>ELEC</td>\n",
       "      <td>82</td>\n",
       "      <td>0.0</td>\n",
       "      <td>0.0</td>\n",
       "      <td>0.0</td>\n",
       "    </tr>\n",
       "    <tr>\n",
       "      <th>1</th>\n",
       "      <td>69</td>\n",
       "      <td>11</td>\n",
       "      <td>0.0</td>\n",
       "      <td>0</td>\n",
       "      <td>8</td>\n",
       "      <td>1</td>\n",
       "      <td>ELEC</td>\n",
       "      <td>388</td>\n",
       "      <td>0.0</td>\n",
       "      <td>0.0</td>\n",
       "      <td>0.0</td>\n",
       "    </tr>\n",
       "    <tr>\n",
       "      <th>2</th>\n",
       "      <td>62</td>\n",
       "      <td>11</td>\n",
       "      <td>0.0</td>\n",
       "      <td>0</td>\n",
       "      <td>8</td>\n",
       "      <td>1</td>\n",
       "      <td>ELEC</td>\n",
       "      <td>407</td>\n",
       "      <td>0.0</td>\n",
       "      <td>0.0</td>\n",
       "      <td>0.0</td>\n",
       "    </tr>\n",
       "    <tr>\n",
       "      <th>3</th>\n",
       "      <td>69</td>\n",
       "      <td>11</td>\n",
       "      <td>0.0</td>\n",
       "      <td>0</td>\n",
       "      <td>6</td>\n",
       "      <td>1</td>\n",
       "      <td>ELEC</td>\n",
       "      <td>0</td>\n",
       "      <td>0.0</td>\n",
       "      <td>0.0</td>\n",
       "      <td>0.0</td>\n",
       "    </tr>\n",
       "    <tr>\n",
       "      <th>4</th>\n",
       "      <td>62</td>\n",
       "      <td>11</td>\n",
       "      <td>0.0</td>\n",
       "      <td>0</td>\n",
       "      <td>9</td>\n",
       "      <td>1</td>\n",
       "      <td>ELEC</td>\n",
       "      <td>959</td>\n",
       "      <td>0.0</td>\n",
       "      <td>0.0</td>\n",
       "      <td>0.0</td>\n",
       "    </tr>\n",
       "  </tbody>\n",
       "</table>\n",
       "</div>"
      ],
      "text/plain": [
       "   disrict  client_catg  target  counter_statue  reading_remarque  \\\n",
       "0       60           11     0.0               0                 8   \n",
       "1       69           11     0.0               0                 8   \n",
       "2       62           11     0.0               0                 8   \n",
       "3       69           11     0.0               0                 6   \n",
       "4       62           11     0.0               0                 9   \n",
       "\n",
       "   counter_coefficient counter_type  index_calc  counter_error  month_error  \\\n",
       "0                    1         ELEC          82            0.0          0.0   \n",
       "1                    1         ELEC         388            0.0          0.0   \n",
       "2                    1         ELEC         407            0.0          0.0   \n",
       "3                    1         ELEC           0            0.0          0.0   \n",
       "4                    1         ELEC         959            0.0          0.0   \n",
       "\n",
       "   year_error  \n",
       "0         0.0  \n",
       "1         0.0  \n",
       "2         0.0  \n",
       "3         0.0  \n",
       "4         0.0  "
      ]
     },
     "execution_count": 25,
     "metadata": {},
     "output_type": "execute_result"
    }
   ],
   "source": [
    "train.head()"
   ]
  },
  {
   "cell_type": "code",
   "execution_count": 26,
   "metadata": {},
   "outputs": [],
   "source": [
    "test.client_catg=test.client_catg.astype('str')"
   ]
  },
  {
   "cell_type": "code",
   "execution_count": 27,
   "metadata": {},
   "outputs": [],
   "source": [
    "train.client_catg=train.client_catg.astype('str')"
   ]
  },
  {
   "cell_type": "markdown",
   "metadata": {},
   "source": [
    "### creating categorical variable for the reading remarque"
   ]
  },
  {
   "cell_type": "code",
   "execution_count": 28,
   "metadata": {},
   "outputs": [],
   "source": [
    "#train\n",
    "index_1=train[train.reading_remarque==6].index.to_list()\n",
    "index_2=train[train.reading_remarque==9].index.to_list()\n",
    "index_3=train[train.reading_remarque==8].index.to_list()\n",
    "index_4=train[train.reading_remarque==7].index.to_list()\n",
    "index_5=train[train.reading_remarque==203].index.to_list()\n",
    "index_6=train[train.reading_remarque==413].index.to_list()"
   ]
  },
  {
   "cell_type": "code",
   "execution_count": 29,
   "metadata": {},
   "outputs": [],
   "source": [
    "p=index_4+index_5+index_6"
   ]
  },
  {
   "cell_type": "code",
   "execution_count": 30,
   "metadata": {},
   "outputs": [],
   "source": [
    "train.loc[index_1,'reading_remarque']=6\n",
    "train.loc[index_2,'reading_remarque']=9\n",
    "train.loc[index_3,'reading_remarque']=8\n",
    "train.loc[p,'reading_remarque']=7"
   ]
  },
  {
   "cell_type": "code",
   "execution_count": 31,
   "metadata": {},
   "outputs": [],
   "source": [
    "train.reading_remarque=train.reading_remarque.astype('str')"
   ]
  },
  {
   "cell_type": "code",
   "execution_count": 32,
   "metadata": {},
   "outputs": [],
   "source": [
    "test.reading_remarque=test.reading_remarque.astype('str')"
   ]
  },
  {
   "cell_type": "markdown",
   "metadata": {},
   "source": [
    "### creating categroies for counter_coefficient"
   ]
  },
  {
   "cell_type": "code",
   "execution_count": 33,
   "metadata": {},
   "outputs": [],
   "source": [
    "#train\n",
    "index_1=train[train.counter_coefficient==1].index.to_list()\n",
    "index_2=train[train.counter_coefficient==2].index.to_list()\n",
    "index_3=train[train.counter_coefficient==3].index.to_list()\n",
    "index_4=train[train.counter_coefficient==40].index.to_list()\n",
    "index_5=train[train.counter_coefficient==6].index.to_list()\n",
    "index_6=train[train.counter_coefficient==50].index.to_list()\n",
    "index_7=train[train.counter_coefficient==30].index.to_list()\n",
    "index_8=train[train.counter_coefficient==20].index.to_list()\n",
    "index_9=train[train.counter_coefficient==0].index.to_list()"
   ]
  },
  {
   "cell_type": "code",
   "execution_count": 34,
   "metadata": {},
   "outputs": [],
   "source": [
    "q=index_3+index_4+index_5+index_6+index_7+index_8+index_9"
   ]
  },
  {
   "cell_type": "code",
   "execution_count": 35,
   "metadata": {},
   "outputs": [],
   "source": [
    "train.loc[index_1,'counter_coefficient']=1\n",
    "train.loc[index_2,'counter_coefficient']=2\n",
    "train.loc[q,'counter_coefficient']=3"
   ]
  },
  {
   "cell_type": "code",
   "execution_count": 36,
   "metadata": {},
   "outputs": [],
   "source": [
    "train.counter_coefficient=train.counter_coefficient.astype('str')"
   ]
  },
  {
   "cell_type": "code",
   "execution_count": 37,
   "metadata": {},
   "outputs": [],
   "source": [
    "#test\n",
    "index_1=test[test.counter_coefficient==1].index.to_list()\n",
    "index_2=test[test.counter_coefficient==2].index.to_list()\n",
    "index_3=test[test.counter_coefficient==3].index.to_list()\n",
    "index_4=test[test.counter_coefficient==10].index.to_list()\n",
    "index_5=test[test.counter_coefficient==4].index.to_list()"
   ]
  },
  {
   "cell_type": "code",
   "execution_count": 38,
   "metadata": {},
   "outputs": [],
   "source": [
    "r=index_3+index_4+index_5"
   ]
  },
  {
   "cell_type": "code",
   "execution_count": 39,
   "metadata": {},
   "outputs": [],
   "source": [
    "test.loc[index_1,'counter_coefficient']=1\n",
    "test.loc[index_2,'counter_coefficient']=2\n",
    "test.loc[r,'counter_coefficient']=3"
   ]
  },
  {
   "cell_type": "code",
   "execution_count": 40,
   "metadata": {},
   "outputs": [],
   "source": [
    "test.counter_coefficient=test.counter_coefficient.astype('str')"
   ]
  },
  {
   "cell_type": "markdown",
   "metadata": {},
   "source": [
    "### creating categories for counter_statue"
   ]
  },
  {
   "cell_type": "code",
   "execution_count": 41,
   "metadata": {},
   "outputs": [],
   "source": [
    "index_1=train[train.counter_statue==2].index.to_list()\n",
    "index_2=train[train.counter_statue==618].index.to_list()\n",
    "index_3=train[train.counter_statue==269375].index.to_list()"
   ]
  },
  {
   "cell_type": "code",
   "execution_count": 42,
   "metadata": {},
   "outputs": [],
   "source": [
    "s=index_1+index_2+index_3"
   ]
  },
  {
   "cell_type": "code",
   "execution_count": 43,
   "metadata": {},
   "outputs": [],
   "source": [
    "train.loc[s,'counter_statue']=2"
   ]
  },
  {
   "cell_type": "code",
   "execution_count": 44,
   "metadata": {},
   "outputs": [],
   "source": [
    "train.counter_statue=train.counter_statue.astype('str')"
   ]
  },
  {
   "cell_type": "code",
   "execution_count": 45,
   "metadata": {},
   "outputs": [],
   "source": [
    "test.counter_statue=test.counter_statue.astype('str')"
   ]
  },
  {
   "cell_type": "code",
   "execution_count": 46,
   "metadata": {},
   "outputs": [
    {
     "data": {
      "text/html": [
       "<div>\n",
       "<style scoped>\n",
       "    .dataframe tbody tr th:only-of-type {\n",
       "        vertical-align: middle;\n",
       "    }\n",
       "\n",
       "    .dataframe tbody tr th {\n",
       "        vertical-align: top;\n",
       "    }\n",
       "\n",
       "    .dataframe thead th {\n",
       "        text-align: right;\n",
       "    }\n",
       "</style>\n",
       "<table border=\"1\" class=\"dataframe\">\n",
       "  <thead>\n",
       "    <tr style=\"text-align: right;\">\n",
       "      <th></th>\n",
       "      <th>disrict</th>\n",
       "      <th>client_catg</th>\n",
       "      <th>target</th>\n",
       "      <th>counter_statue</th>\n",
       "      <th>reading_remarque</th>\n",
       "      <th>counter_coefficient</th>\n",
       "      <th>counter_type</th>\n",
       "      <th>index_calc</th>\n",
       "      <th>counter_error</th>\n",
       "      <th>month_error</th>\n",
       "      <th>year_error</th>\n",
       "    </tr>\n",
       "  </thead>\n",
       "  <tbody>\n",
       "    <tr>\n",
       "      <th>0</th>\n",
       "      <td>60</td>\n",
       "      <td>11</td>\n",
       "      <td>0.0</td>\n",
       "      <td>0</td>\n",
       "      <td>8</td>\n",
       "      <td>1</td>\n",
       "      <td>ELEC</td>\n",
       "      <td>82</td>\n",
       "      <td>0.0</td>\n",
       "      <td>0.0</td>\n",
       "      <td>0.0</td>\n",
       "    </tr>\n",
       "    <tr>\n",
       "      <th>1</th>\n",
       "      <td>69</td>\n",
       "      <td>11</td>\n",
       "      <td>0.0</td>\n",
       "      <td>0</td>\n",
       "      <td>8</td>\n",
       "      <td>1</td>\n",
       "      <td>ELEC</td>\n",
       "      <td>388</td>\n",
       "      <td>0.0</td>\n",
       "      <td>0.0</td>\n",
       "      <td>0.0</td>\n",
       "    </tr>\n",
       "    <tr>\n",
       "      <th>2</th>\n",
       "      <td>62</td>\n",
       "      <td>11</td>\n",
       "      <td>0.0</td>\n",
       "      <td>0</td>\n",
       "      <td>8</td>\n",
       "      <td>1</td>\n",
       "      <td>ELEC</td>\n",
       "      <td>407</td>\n",
       "      <td>0.0</td>\n",
       "      <td>0.0</td>\n",
       "      <td>0.0</td>\n",
       "    </tr>\n",
       "    <tr>\n",
       "      <th>3</th>\n",
       "      <td>69</td>\n",
       "      <td>11</td>\n",
       "      <td>0.0</td>\n",
       "      <td>0</td>\n",
       "      <td>6</td>\n",
       "      <td>1</td>\n",
       "      <td>ELEC</td>\n",
       "      <td>0</td>\n",
       "      <td>0.0</td>\n",
       "      <td>0.0</td>\n",
       "      <td>0.0</td>\n",
       "    </tr>\n",
       "    <tr>\n",
       "      <th>4</th>\n",
       "      <td>62</td>\n",
       "      <td>11</td>\n",
       "      <td>0.0</td>\n",
       "      <td>0</td>\n",
       "      <td>9</td>\n",
       "      <td>1</td>\n",
       "      <td>ELEC</td>\n",
       "      <td>959</td>\n",
       "      <td>0.0</td>\n",
       "      <td>0.0</td>\n",
       "      <td>0.0</td>\n",
       "    </tr>\n",
       "  </tbody>\n",
       "</table>\n",
       "</div>"
      ],
      "text/plain": [
       "   disrict client_catg  target counter_statue reading_remarque  \\\n",
       "0       60          11     0.0              0                8   \n",
       "1       69          11     0.0              0                8   \n",
       "2       62          11     0.0              0                8   \n",
       "3       69          11     0.0              0                6   \n",
       "4       62          11     0.0              0                9   \n",
       "\n",
       "  counter_coefficient counter_type  index_calc  counter_error  month_error  \\\n",
       "0                   1         ELEC          82            0.0          0.0   \n",
       "1                   1         ELEC         388            0.0          0.0   \n",
       "2                   1         ELEC         407            0.0          0.0   \n",
       "3                   1         ELEC           0            0.0          0.0   \n",
       "4                   1         ELEC         959            0.0          0.0   \n",
       "\n",
       "   year_error  \n",
       "0         0.0  \n",
       "1         0.0  \n",
       "2         0.0  \n",
       "3         0.0  \n",
       "4         0.0  "
      ]
     },
     "execution_count": 46,
     "metadata": {},
     "output_type": "execute_result"
    }
   ],
   "source": [
    "train.head()"
   ]
  },
  {
   "cell_type": "code",
   "execution_count": 47,
   "metadata": {},
   "outputs": [
    {
     "data": {
      "text/plain": [
       "6    65287\n",
       "9    47991\n",
       "8    21979\n",
       "7      236\n",
       "Name: reading_remarque, dtype: int64"
      ]
     },
     "execution_count": 47,
     "metadata": {},
     "output_type": "execute_result"
    }
   ],
   "source": [
    "train.reading_remarque.value_counts()"
   ]
  },
  {
   "cell_type": "code",
   "execution_count": 48,
   "metadata": {},
   "outputs": [],
   "source": [
    "train.reading_remarque=train.reading_remarque.astype('str')"
   ]
  },
  {
   "cell_type": "code",
   "execution_count": 49,
   "metadata": {},
   "outputs": [
    {
     "data": {
      "text/plain": [
       "<matplotlib.axes._subplots.AxesSubplot at 0x1c2b0069fa0>"
      ]
     },
     "execution_count": 49,
     "metadata": {},
     "output_type": "execute_result"
    },
    {
     "data": {
      "image/png": "[encoded data removed]",
      "text/plain": [
       "<Figure size 432x288 with 1 Axes>"
      ]
     },
     "metadata": {
      "needs_background": "light"
     },
     "output_type": "display_data"
    }
   ],
   "source": [
    "sns.countplot(data=train,x='disrict')"
   ]
  },
  {
   "cell_type": "code",
   "execution_count": 50,
   "metadata": {},
   "outputs": [
    {
     "data": {
      "text/plain": [
       "disrict                  int64\n",
       "client_catg             object\n",
       "target                 float64\n",
       "counter_statue          object\n",
       "reading_remarque        object\n",
       "counter_coefficient     object\n",
       "counter_type            object\n",
       "index_calc               int64\n",
       "counter_error          float64\n",
       "month_error            float64\n",
       "year_error             float64\n",
       "dtype: object"
      ]
     },
     "execution_count": 50,
     "metadata": {},
     "output_type": "execute_result"
    }
   ],
   "source": [
    "train.dtypes"
   ]
  },
  {
   "cell_type": "code",
   "execution_count": 51,
   "metadata": {},
   "outputs": [],
   "source": [
    "le=LabelEncoder()\n",
    "le.fit(train.counter_type)\n",
    "train.counter_type=le.transform(train.counter_type)"
   ]
  },
  {
   "cell_type": "code",
   "execution_count": 52,
   "metadata": {},
   "outputs": [],
   "source": [
    "#le.fit(train.counter_statue)\n",
    "#train.counter_statue=le.transform(train.counter_statue)"
   ]
  },
  {
   "cell_type": "code",
   "execution_count": 53,
   "metadata": {},
   "outputs": [],
   "source": [
    "le.fit(test.counter_type)\n",
    "test.counter_type=le.transform(test.counter_type)"
   ]
  },
  {
   "cell_type": "code",
   "execution_count": 54,
   "metadata": {},
   "outputs": [
    {
     "data": {
      "text/html": [
       "<div>\n",
       "<style scoped>\n",
       "    .dataframe tbody tr th:only-of-type {\n",
       "        vertical-align: middle;\n",
       "    }\n",
       "\n",
       "    .dataframe tbody tr th {\n",
       "        vertical-align: top;\n",
       "    }\n",
       "\n",
       "    .dataframe thead th {\n",
       "        text-align: right;\n",
       "    }\n",
       "</style>\n",
       "<table border=\"1\" class=\"dataframe\">\n",
       "  <thead>\n",
       "    <tr style=\"text-align: right;\">\n",
       "      <th></th>\n",
       "      <th>disrict</th>\n",
       "      <th>client_catg</th>\n",
       "      <th>target</th>\n",
       "      <th>counter_statue</th>\n",
       "      <th>reading_remarque</th>\n",
       "      <th>counter_coefficient</th>\n",
       "      <th>counter_type</th>\n",
       "      <th>index_calc</th>\n",
       "      <th>counter_error</th>\n",
       "      <th>month_error</th>\n",
       "      <th>year_error</th>\n",
       "    </tr>\n",
       "  </thead>\n",
       "  <tbody>\n",
       "    <tr>\n",
       "      <th>0</th>\n",
       "      <td>60</td>\n",
       "      <td>11</td>\n",
       "      <td>0.0</td>\n",
       "      <td>0</td>\n",
       "      <td>8</td>\n",
       "      <td>1</td>\n",
       "      <td>0</td>\n",
       "      <td>82</td>\n",
       "      <td>0.0</td>\n",
       "      <td>0.0</td>\n",
       "      <td>0.0</td>\n",
       "    </tr>\n",
       "    <tr>\n",
       "      <th>1</th>\n",
       "      <td>69</td>\n",
       "      <td>11</td>\n",
       "      <td>0.0</td>\n",
       "      <td>0</td>\n",
       "      <td>8</td>\n",
       "      <td>1</td>\n",
       "      <td>0</td>\n",
       "      <td>388</td>\n",
       "      <td>0.0</td>\n",
       "      <td>0.0</td>\n",
       "      <td>0.0</td>\n",
       "    </tr>\n",
       "    <tr>\n",
       "      <th>2</th>\n",
       "      <td>62</td>\n",
       "      <td>11</td>\n",
       "      <td>0.0</td>\n",
       "      <td>0</td>\n",
       "      <td>8</td>\n",
       "      <td>1</td>\n",
       "      <td>0</td>\n",
       "      <td>407</td>\n",
       "      <td>0.0</td>\n",
       "      <td>0.0</td>\n",
       "      <td>0.0</td>\n",
       "    </tr>\n",
       "    <tr>\n",
       "      <th>3</th>\n",
       "      <td>69</td>\n",
       "      <td>11</td>\n",
       "      <td>0.0</td>\n",
       "      <td>0</td>\n",
       "      <td>6</td>\n",
       "      <td>1</td>\n",
       "      <td>0</td>\n",
       "      <td>0</td>\n",
       "      <td>0.0</td>\n",
       "      <td>0.0</td>\n",
       "      <td>0.0</td>\n",
       "    </tr>\n",
       "    <tr>\n",
       "      <th>4</th>\n",
       "      <td>62</td>\n",
       "      <td>11</td>\n",
       "      <td>0.0</td>\n",
       "      <td>0</td>\n",
       "      <td>9</td>\n",
       "      <td>1</td>\n",
       "      <td>0</td>\n",
       "      <td>959</td>\n",
       "      <td>0.0</td>\n",
       "      <td>0.0</td>\n",
       "      <td>0.0</td>\n",
       "    </tr>\n",
       "  </tbody>\n",
       "</table>\n",
       "</div>"
      ],
      "text/plain": [
       "   disrict client_catg  target counter_statue reading_remarque  \\\n",
       "0       60          11     0.0              0                8   \n",
       "1       69          11     0.0              0                8   \n",
       "2       62          11     0.0              0                8   \n",
       "3       69          11     0.0              0                6   \n",
       "4       62          11     0.0              0                9   \n",
       "\n",
       "  counter_coefficient  counter_type  index_calc  counter_error  month_error  \\\n",
       "0                   1             0          82            0.0          0.0   \n",
       "1                   1             0         388            0.0          0.0   \n",
       "2                   1             0         407            0.0          0.0   \n",
       "3                   1             0           0            0.0          0.0   \n",
       "4                   1             0         959            0.0          0.0   \n",
       "\n",
       "   year_error  \n",
       "0         0.0  \n",
       "1         0.0  \n",
       "2         0.0  \n",
       "3         0.0  \n",
       "4         0.0  "
      ]
     },
     "execution_count": 54,
     "metadata": {},
     "output_type": "execute_result"
    }
   ],
   "source": [
    "train.head()"
   ]
  },
  {
   "cell_type": "code",
   "execution_count": 55,
   "metadata": {},
   "outputs": [],
   "source": [
    "index_1=train[train.disrict==60].index.to_list()\n",
    "index_2=train[train.disrict==62].index.to_list()\n",
    "index_3=train[train.disrict==63].index.to_list()\n",
    "index_4=train[train.disrict==69].index.to_list()\n",
    "index_11=test[test.disrict==60].index.to_list()\n",
    "index_12=test[test.disrict==62].index.to_list()\n",
    "index_13=test[test.disrict==63].index.to_list()\n",
    "index_14=test[test.disrict==69].index.to_list()"
   ]
  },
  {
   "cell_type": "code",
   "execution_count": 56,
   "metadata": {},
   "outputs": [],
   "source": [
    "test.loc[index_11,'disrict']=1\n",
    "test.loc[index_12,'disrict']=2\n",
    "test.loc[index_13,'disrict']=3\n",
    "test.loc[index_14,'disrict']=4\n",
    "train.loc[index_1,'disrict']=1\n",
    "train.loc[index_2,'disrict']=2\n",
    "train.loc[index_3,'disrict']=3\n",
    "train.loc[index_4,'disrict']=4"
   ]
  },
  {
   "cell_type": "code",
   "execution_count": 57,
   "metadata": {},
   "outputs": [
    {
     "data": {
      "text/plain": [
       "11    56305\n",
       "12     1054\n",
       "51      710\n",
       "Name: client_catg, dtype: int64"
      ]
     },
     "execution_count": 57,
     "metadata": {},
     "output_type": "execute_result"
    }
   ],
   "source": [
    "test.client_catg.value_counts()"
   ]
  },
  {
   "cell_type": "code",
   "execution_count": 58,
   "metadata": {},
   "outputs": [],
   "source": [
    "index_1=train[train.client_catg==11].index.to_list()\n",
    "index_2=train[train.client_catg==12].index.to_list()\n",
    "index_3=train[train.client_catg==51].index.to_list()\n",
    "index_11=test[test.client_catg==11].index.to_list()\n",
    "index_12=test[test.client_catg==12].index.to_list()\n",
    "index_13=test[test.client_catg==51].index.to_list()"
   ]
  },
  {
   "cell_type": "code",
   "execution_count": 59,
   "metadata": {},
   "outputs": [],
   "source": [
    "test.loc[index_11,'client_catg']=1\n",
    "test.loc[index_12,'client_catg']=2\n",
    "test.loc[index_13,'client_catg']=3\n",
    "train.loc[index_1,'client_catg']=1\n",
    "train.loc[index_2,'client_catg']=2\n",
    "train.loc[index_3,'client_catg']=3"
   ]
  },
  {
   "cell_type": "code",
   "execution_count": 60,
   "metadata": {},
   "outputs": [
    {
     "data": {
      "text/html": [
       "<div>\n",
       "<style scoped>\n",
       "    .dataframe tbody tr th:only-of-type {\n",
       "        vertical-align: middle;\n",
       "    }\n",
       "\n",
       "    .dataframe tbody tr th {\n",
       "        vertical-align: top;\n",
       "    }\n",
       "\n",
       "    .dataframe thead th {\n",
       "        text-align: right;\n",
       "    }\n",
       "</style>\n",
       "<table border=\"1\" class=\"dataframe\">\n",
       "  <thead>\n",
       "    <tr style=\"text-align: right;\">\n",
       "      <th></th>\n",
       "      <th>disrict</th>\n",
       "      <th>client_catg</th>\n",
       "      <th>target</th>\n",
       "      <th>counter_statue</th>\n",
       "      <th>reading_remarque</th>\n",
       "      <th>counter_coefficient</th>\n",
       "      <th>counter_type</th>\n",
       "      <th>index_calc</th>\n",
       "      <th>counter_error</th>\n",
       "      <th>month_error</th>\n",
       "      <th>year_error</th>\n",
       "    </tr>\n",
       "  </thead>\n",
       "  <tbody>\n",
       "    <tr>\n",
       "      <th>0</th>\n",
       "      <td>1</td>\n",
       "      <td>11</td>\n",
       "      <td>0.0</td>\n",
       "      <td>0</td>\n",
       "      <td>8</td>\n",
       "      <td>1</td>\n",
       "      <td>0</td>\n",
       "      <td>82</td>\n",
       "      <td>0.0</td>\n",
       "      <td>0.0</td>\n",
       "      <td>0.0</td>\n",
       "    </tr>\n",
       "    <tr>\n",
       "      <th>1</th>\n",
       "      <td>4</td>\n",
       "      <td>11</td>\n",
       "      <td>0.0</td>\n",
       "      <td>0</td>\n",
       "      <td>8</td>\n",
       "      <td>1</td>\n",
       "      <td>0</td>\n",
       "      <td>388</td>\n",
       "      <td>0.0</td>\n",
       "      <td>0.0</td>\n",
       "      <td>0.0</td>\n",
       "    </tr>\n",
       "    <tr>\n",
       "      <th>2</th>\n",
       "      <td>2</td>\n",
       "      <td>11</td>\n",
       "      <td>0.0</td>\n",
       "      <td>0</td>\n",
       "      <td>8</td>\n",
       "      <td>1</td>\n",
       "      <td>0</td>\n",
       "      <td>407</td>\n",
       "      <td>0.0</td>\n",
       "      <td>0.0</td>\n",
       "      <td>0.0</td>\n",
       "    </tr>\n",
       "    <tr>\n",
       "      <th>3</th>\n",
       "      <td>4</td>\n",
       "      <td>11</td>\n",
       "      <td>0.0</td>\n",
       "      <td>0</td>\n",
       "      <td>6</td>\n",
       "      <td>1</td>\n",
       "      <td>0</td>\n",
       "      <td>0</td>\n",
       "      <td>0.0</td>\n",
       "      <td>0.0</td>\n",
       "      <td>0.0</td>\n",
       "    </tr>\n",
       "    <tr>\n",
       "      <th>4</th>\n",
       "      <td>2</td>\n",
       "      <td>11</td>\n",
       "      <td>0.0</td>\n",
       "      <td>0</td>\n",
       "      <td>9</td>\n",
       "      <td>1</td>\n",
       "      <td>0</td>\n",
       "      <td>959</td>\n",
       "      <td>0.0</td>\n",
       "      <td>0.0</td>\n",
       "      <td>0.0</td>\n",
       "    </tr>\n",
       "    <tr>\n",
       "      <th>5</th>\n",
       "      <td>4</td>\n",
       "      <td>11</td>\n",
       "      <td>0.0</td>\n",
       "      <td>0</td>\n",
       "      <td>9</td>\n",
       "      <td>1</td>\n",
       "      <td>1</td>\n",
       "      <td>693</td>\n",
       "      <td>0.0</td>\n",
       "      <td>0.0</td>\n",
       "      <td>0.0</td>\n",
       "    </tr>\n",
       "    <tr>\n",
       "      <th>6</th>\n",
       "      <td>2</td>\n",
       "      <td>11</td>\n",
       "      <td>0.0</td>\n",
       "      <td>1</td>\n",
       "      <td>6</td>\n",
       "      <td>1</td>\n",
       "      <td>0</td>\n",
       "      <td>1102</td>\n",
       "      <td>0.0</td>\n",
       "      <td>0.0</td>\n",
       "      <td>0.0</td>\n",
       "    </tr>\n",
       "    <tr>\n",
       "      <th>7</th>\n",
       "      <td>1</td>\n",
       "      <td>11</td>\n",
       "      <td>0.0</td>\n",
       "      <td>0</td>\n",
       "      <td>8</td>\n",
       "      <td>1</td>\n",
       "      <td>1</td>\n",
       "      <td>94</td>\n",
       "      <td>0.0</td>\n",
       "      <td>0.0</td>\n",
       "      <td>0.0</td>\n",
       "    </tr>\n",
       "    <tr>\n",
       "      <th>8</th>\n",
       "      <td>2</td>\n",
       "      <td>11</td>\n",
       "      <td>0.0</td>\n",
       "      <td>0</td>\n",
       "      <td>9</td>\n",
       "      <td>1</td>\n",
       "      <td>0</td>\n",
       "      <td>218</td>\n",
       "      <td>0.0</td>\n",
       "      <td>0.0</td>\n",
       "      <td>0.0</td>\n",
       "    </tr>\n",
       "    <tr>\n",
       "      <th>9</th>\n",
       "      <td>1</td>\n",
       "      <td>11</td>\n",
       "      <td>0.0</td>\n",
       "      <td>0</td>\n",
       "      <td>9</td>\n",
       "      <td>1</td>\n",
       "      <td>0</td>\n",
       "      <td>11153</td>\n",
       "      <td>0.0</td>\n",
       "      <td>0.0</td>\n",
       "      <td>0.0</td>\n",
       "    </tr>\n",
       "  </tbody>\n",
       "</table>\n",
       "</div>"
      ],
      "text/plain": [
       "   disrict client_catg  target counter_statue reading_remarque  \\\n",
       "0        1          11     0.0              0                8   \n",
       "1        4          11     0.0              0                8   \n",
       "2        2          11     0.0              0                8   \n",
       "3        4          11     0.0              0                6   \n",
       "4        2          11     0.0              0                9   \n",
       "5        4          11     0.0              0                9   \n",
       "6        2          11     0.0              1                6   \n",
       "7        1          11     0.0              0                8   \n",
       "8        2          11     0.0              0                9   \n",
       "9        1          11     0.0              0                9   \n",
       "\n",
       "  counter_coefficient  counter_type  index_calc  counter_error  month_error  \\\n",
       "0                   1             0          82            0.0          0.0   \n",
       "1                   1             0         388            0.0          0.0   \n",
       "2                   1             0         407            0.0          0.0   \n",
       "3                   1             0           0            0.0          0.0   \n",
       "4                   1             0         959            0.0          0.0   \n",
       "5                   1             1         693            0.0          0.0   \n",
       "6                   1             0        1102            0.0          0.0   \n",
       "7                   1             1          94            0.0          0.0   \n",
       "8                   1             0         218            0.0          0.0   \n",
       "9                   1             0       11153            0.0          0.0   \n",
       "\n",
       "   year_error  \n",
       "0         0.0  \n",
       "1         0.0  \n",
       "2         0.0  \n",
       "3         0.0  \n",
       "4         0.0  \n",
       "5         0.0  \n",
       "6         0.0  \n",
       "7         0.0  \n",
       "8         0.0  \n",
       "9         0.0  "
      ]
     },
     "execution_count": 60,
     "metadata": {},
     "output_type": "execute_result"
    }
   ],
   "source": [
    "train.head(10)"
   ]
  },
  {
   "cell_type": "code",
   "execution_count": 61,
   "metadata": {},
   "outputs": [],
   "source": [
    "train.client_catg=train.client_catg.astype('str')"
   ]
  },
  {
   "cell_type": "code",
   "execution_count": 62,
   "metadata": {},
   "outputs": [],
   "source": [
    "test.client_catg=test.client_catg.astype('str')"
   ]
  },
  {
   "cell_type": "code",
   "execution_count": 63,
   "metadata": {},
   "outputs": [
    {
     "data": {
      "text/plain": [
       "disrict                  int64\n",
       "client_catg             object\n",
       "counter_statue          object\n",
       "reading_remarque        object\n",
       "counter_coefficient     object\n",
       "counter_type             int32\n",
       "index_calc               int64\n",
       "counter_error          float64\n",
       "month_error            float64\n",
       "year_error             float64\n",
       "dtype: object"
      ]
     },
     "execution_count": 63,
     "metadata": {},
     "output_type": "execute_result"
    }
   ],
   "source": [
    "test.dtypes"
   ]
  },
  {
   "cell_type": "markdown",
   "metadata": {},
   "source": [
    "### now lets try to normalize our data and save it"
   ]
  },
  {
   "cell_type": "code",
   "execution_count": 64,
   "metadata": {},
   "outputs": [],
   "source": [
    "#train\n",
    "#train.client_catg=train.client_catg/10\n",
    "#train.disrict=train.disrict/10\n",
    "#train.counter_statue=train.counter_statue/10\n",
    "#train.reading_remarque=train.reading_remarque/10\n",
    "#train.counter_coefficient=train.counter_coefficient/10"
   ]
  },
  {
   "cell_type": "code",
   "execution_count": 65,
   "metadata": {},
   "outputs": [],
   "source": [
    "#test\n",
    "#test.client_catg=test.client_catg/10\n",
    "#test.disrict=test.disrict/10\n",
    "#test.counter_statue=test.counter_statue/10\n",
    "#test.reading_remarque=test.reading_remarque/10\n",
    "#test.counter_coefficient=test.counter_coefficient/10"
   ]
  },
  {
   "cell_type": "code",
   "execution_count": 66,
   "metadata": {},
   "outputs": [
    {
     "data": {
      "text/html": [
       "<div>\n",
       "<style scoped>\n",
       "    .dataframe tbody tr th:only-of-type {\n",
       "        vertical-align: middle;\n",
       "    }\n",
       "\n",
       "    .dataframe tbody tr th {\n",
       "        vertical-align: top;\n",
       "    }\n",
       "\n",
       "    .dataframe thead th {\n",
       "        text-align: right;\n",
       "    }\n",
       "</style>\n",
       "<table border=\"1\" class=\"dataframe\">\n",
       "  <thead>\n",
       "    <tr style=\"text-align: right;\">\n",
       "      <th></th>\n",
       "      <th>disrict</th>\n",
       "      <th>client_catg</th>\n",
       "      <th>counter_statue</th>\n",
       "      <th>reading_remarque</th>\n",
       "      <th>counter_coefficient</th>\n",
       "      <th>counter_type</th>\n",
       "      <th>index_calc</th>\n",
       "      <th>counter_error</th>\n",
       "      <th>month_error</th>\n",
       "      <th>year_error</th>\n",
       "    </tr>\n",
       "  </thead>\n",
       "  <tbody>\n",
       "    <tr>\n",
       "      <th>0</th>\n",
       "      <td>2</td>\n",
       "      <td>11</td>\n",
       "      <td>0</td>\n",
       "      <td>8</td>\n",
       "      <td>1</td>\n",
       "      <td>0</td>\n",
       "      <td>755</td>\n",
       "      <td>0.0</td>\n",
       "      <td>0.0</td>\n",
       "      <td>0.0</td>\n",
       "    </tr>\n",
       "    <tr>\n",
       "      <th>1</th>\n",
       "      <td>4</td>\n",
       "      <td>11</td>\n",
       "      <td>0</td>\n",
       "      <td>9</td>\n",
       "      <td>1</td>\n",
       "      <td>0</td>\n",
       "      <td>1380</td>\n",
       "      <td>0.0</td>\n",
       "      <td>0.0</td>\n",
       "      <td>0.0</td>\n",
       "    </tr>\n",
       "    <tr>\n",
       "      <th>2</th>\n",
       "      <td>2</td>\n",
       "      <td>11</td>\n",
       "      <td>0</td>\n",
       "      <td>9</td>\n",
       "      <td>1</td>\n",
       "      <td>0</td>\n",
       "      <td>884</td>\n",
       "      <td>0.0</td>\n",
       "      <td>0.0</td>\n",
       "      <td>0.0</td>\n",
       "    </tr>\n",
       "    <tr>\n",
       "      <th>3</th>\n",
       "      <td>1</td>\n",
       "      <td>11</td>\n",
       "      <td>0</td>\n",
       "      <td>6</td>\n",
       "      <td>1</td>\n",
       "      <td>0</td>\n",
       "      <td>562</td>\n",
       "      <td>0.0</td>\n",
       "      <td>0.0</td>\n",
       "      <td>0.0</td>\n",
       "    </tr>\n",
       "    <tr>\n",
       "      <th>4</th>\n",
       "      <td>2</td>\n",
       "      <td>11</td>\n",
       "      <td>0</td>\n",
       "      <td>9</td>\n",
       "      <td>1</td>\n",
       "      <td>0</td>\n",
       "      <td>860</td>\n",
       "      <td>0.0</td>\n",
       "      <td>0.0</td>\n",
       "      <td>0.0</td>\n",
       "    </tr>\n",
       "  </tbody>\n",
       "</table>\n",
       "</div>"
      ],
      "text/plain": [
       "   disrict client_catg counter_statue reading_remarque counter_coefficient  \\\n",
       "0        2          11              0                8                   1   \n",
       "1        4          11              0                9                   1   \n",
       "2        2          11              0                9                   1   \n",
       "3        1          11              0                6                   1   \n",
       "4        2          11              0                9                   1   \n",
       "\n",
       "   counter_type  index_calc  counter_error  month_error  year_error  \n",
       "0             0         755            0.0          0.0         0.0  \n",
       "1             0        1380            0.0          0.0         0.0  \n",
       "2             0         884            0.0          0.0         0.0  \n",
       "3             0         562            0.0          0.0         0.0  \n",
       "4             0         860            0.0          0.0         0.0  "
      ]
     },
     "execution_count": 66,
     "metadata": {},
     "output_type": "execute_result"
    }
   ],
   "source": [
    "test.head()"
   ]
  },
  {
   "cell_type": "code",
   "execution_count": 69,
   "metadata": {},
   "outputs": [],
   "source": [
    "train.to_csv('prep_train.csv',index=False)\n",
    "test.to_csv('prep_test.csv',index=False)"
   ]
  },
  {
   "cell_type": "code",
   "execution_count": 68,
   "metadata": {},
   "outputs": [
    {
     "data": {
      "text/plain": [
       "disrict                  int64\n",
       "client_catg             object\n",
       "target                 float64\n",
       "counter_statue          object\n",
       "reading_remarque        object\n",
       "counter_coefficient     object\n",
       "counter_type             int32\n",
       "index_calc               int64\n",
       "counter_error          float64\n",
       "month_error            float64\n",
       "year_error             float64\n",
       "dtype: object"
      ]
     },
     "execution_count": 68,
     "metadata": {},
     "output_type": "execute_result"
    }
   ],
   "source": [
    "train.dtypes"
   ]
  },
  {
   "cell_type": "code",
   "execution_count": 1,
   "metadata": {},
   "outputs": [],
   "source": [
    "#what about target encoding of the counter type?.."
   ]
  },
  {
   "cell_type": "code",
   "execution_count": null,
   "metadata": {},
   "outputs": [],
   "source": []
  }
 ],
 "metadata": {
  "kernelspec": {
   "display_name": "Python 3",
   "language": "python",
   "name": "python3"
  },
  "language_info": {
   "codemirror_mode": {
    "name": "ipython",
    "version": 3
   },
   "file_extension": ".py",
   "mimetype": "text/x-python",
   "name": "python",
   "nbconvert_exporter": "python",
   "pygments_lexer": "ipython3",
   "version": "3.8.3"
  }
 },
 "nbformat": 4,
 "nbformat_minor": 4
}
